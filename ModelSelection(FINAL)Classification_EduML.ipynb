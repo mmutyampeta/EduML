{
  "nbformat": 4,
  "nbformat_minor": 0,
  "metadata": {
    "colab": {
      "name": "ModelSelection(FINAL)Classification-EduML",
      "provenance": [],
      "collapsed_sections": [],
      "authorship_tag": "ABX9TyOzegi8ww5B0jRXktKLd+SI",
      "include_colab_link": true
    },
    "kernelspec": {
      "name": "python3",
      "display_name": "Python 3"
    },
    "language_info": {
      "name": "python"
    }
  },
  "cells": [
    {
      "cell_type": "markdown",
      "metadata": {
        "id": "view-in-github",
        "colab_type": "text"
      },
      "source": [
        "<a href=\"https://colab.research.google.com/github/mmutyampeta/EduML/blob/main/ModelSelection(FINAL)Classification_EduML.ipynb\" target=\"_parent\"><img src=\"https://colab.research.google.com/assets/colab-badge.svg\" alt=\"Open In Colab\"/></a>"
      ]
    },
    {
      "cell_type": "markdown",
      "metadata": {
        "id": "Ar0o5L3HqFXJ"
      },
      "source": [
        "Libraries "
      ]
    },
    {
      "cell_type": "code",
      "metadata": {
        "id": "hdUsBS0c4oLE"
      },
      "source": [
        "import numpy as np\n",
        "import pandas as pd\n",
        "import matplotlib.pyplot as plt\n",
        "from sklearn.impute import SimpleImputer\n",
        "from sklearn.model_selection import train_test_split\n",
        "from sklearn.metrics import mean_squared_error\n",
        "from sklearn.metrics import r2_score\n",
        "from sklearn.model_selection import cross_val_score\n",
        "from sklearn.model_selection import cross_validate"
      ],
      "execution_count": 1,
      "outputs": []
    },
    {
      "cell_type": "code",
      "metadata": {
        "id": "zdKIcOpPqe-O"
      },
      "source": [
        "dataset = pd.read_csv(\"2015_16_DistrictwiseNEW.csv\")\n",
        "imp_mean = SimpleImputer(strategy='mean')\n",
        "dataset = imp_mean.fit_transform(dataset)\n",
        "dataset = pd.DataFrame(dataset)"
      ],
      "execution_count": 3,
      "outputs": []
    },
    {
      "cell_type": "code",
      "metadata": {
        "id": "kgUNK8JoDPBz"
      },
      "source": [
        "X = dataset.loc[:, dataset.columns != 'OVERALL_LI']\n",
        "y = dataset.iloc[:,11]\n",
        "X = np.array(X)\n",
        "\n",
        "y_new = []\n",
        "for i in y:\n",
        "  if i >= 85:\n",
        "    y_new.append(0)\n",
        "  else:\n",
        "    y_new.append(1)\n",
        "y = y_new\n",
        "y = np.array(y)\n",
        "y = y.reshape(-1,1)\n",
        "y = y.ravel()\n",
        "columns = list(dataset.columns)\n",
        "features1 = columns[1:11]\n",
        "features2 = columns[12:]\n",
        "features = features1 + features2"
      ],
      "execution_count": 4,
      "outputs": []
    },
    {
      "cell_type": "code",
      "metadata": {
        "id": "dLs7nV8Z3hjG"
      },
      "source": [
        "scores = {}"
      ],
      "execution_count": 5,
      "outputs": []
    },
    {
      "cell_type": "code",
      "metadata": {
        "colab": {
          "base_uri": "https://localhost:8080/"
        },
        "id": "JW42fKmfKGKr",
        "outputId": "44821e9d-7744-4736-a3ae-debbf4c3e6cf"
      },
      "source": [
        "from sklearn.model_selection import train_test_split\n",
        "X_train, X_test, y_train, y_test = train_test_split(X,y, random_state=0)\n",
        "print(X_train.shape)\n",
        "print(X_test.shape)\n",
        "print(y_train.shape)\n",
        "print(y_test.shape)"
      ],
      "execution_count": 6,
      "outputs": [
        {
          "output_type": "stream",
          "text": [
            "(510, 813)\n",
            "(170, 813)\n",
            "(510,)\n",
            "(170,)\n"
          ],
          "name": "stdout"
        }
      ]
    },
    {
      "cell_type": "markdown",
      "metadata": {
        "id": "JkbddRLRqIHE"
      },
      "source": [
        "###Support Vector Classifier "
      ]
    },
    {
      "cell_type": "code",
      "metadata": {
        "id": "RzAeJhfpqH4k"
      },
      "source": [
        "from sklearn.svm import SVC\n",
        "modelSVC = SVC(kernel = 'rbf', random_state=0)"
      ],
      "execution_count": null,
      "outputs": []
    },
    {
      "cell_type": "markdown",
      "metadata": {
        "id": "kSqxqzy3-xI3"
      },
      "source": [
        "Hyperparameter Tuning"
      ]
    },
    {
      "cell_type": "code",
      "metadata": {
        "colab": {
          "base_uri": "https://localhost:8080/"
        },
        "id": "zXm3-W5aam10",
        "outputId": "75070c42-b0d2-4252-ec5b-08e1c3633929"
      },
      "source": [
        "np.linspace(1,1e+5, num=10)"
      ],
      "execution_count": null,
      "outputs": [
        {
          "output_type": "execute_result",
          "data": {
            "text/plain": [
              "array([1.0000e+00, 1.1112e+04, 2.2223e+04, 3.3334e+04, 4.4445e+04,\n",
              "       5.5556e+04, 6.6667e+04, 7.7778e+04, 8.8889e+04, 1.0000e+05])"
            ]
          },
          "metadata": {
            "tags": []
          },
          "execution_count": 58
        }
      ]
    },
    {
      "cell_type": "code",
      "metadata": {
        "colab": {
          "base_uri": "https://localhost:8080/"
        },
        "id": "KlSjGGvN-zI5",
        "outputId": "dc2253ca-11f1-4270-b9a0-dec2de047f11"
      },
      "source": [
        "from sklearn.model_selection import GridSearchCV\n",
        "paramSVC = [{'C': [1.0000e+00, 1.1112e+04, 2.2223e+04, 3.3334e+04, 4.4445e+04,\n",
        "       5.5556e+04, 6.6667e+04, 7.7778e+04, 8.8889e+04, 1.0000e+05], \n",
        "               'gamma': [1.000000e-05, 2.500075e-01, 5.000050e-01, 7.500025e-01,\n",
        "       1.000000e+00], \n",
        "               'kernel': ['linear']\n",
        "               },\n",
        "              {'C': [1.0000e+00, 1.1112e+04, 2.2223e+04, 3.3334e+04, 4.4445e+04,\n",
        "       5.5556e+04, 6.6667e+04, 7.7778e+04, 8.8889e+04, 1.0000e+05],\n",
        "               'gamma': [1.000000e-05, 2.500075e-01, 5.000050e-01, 7.500025e-01,\n",
        "       1.000000e+00],\n",
        "               'kernel': ['rbf']\n",
        "              }]\n",
        "\n",
        "gridsearchSVC = GridSearchCV(modelSVC, param_grid=paramSVC, scoring='accuracy')\n",
        "gridsearchSVC.fit(X_train,y_train)\n",
        "#score2 = cross_val_score(model2, X, y.ravel(), scoring='accuracy', cv = 10)"
      ],
      "execution_count": null,
      "outputs": [
        {
          "output_type": "execute_result",
          "data": {
            "text/plain": [
              "GridSearchCV(cv=None, error_score=nan,\n",
              "             estimator=SVC(C=1.0, break_ties=False, cache_size=200,\n",
              "                           class_weight=None, coef0=0.0,\n",
              "                           decision_function_shape='ovr', degree=3,\n",
              "                           gamma='scale', kernel='rbf', max_iter=-1,\n",
              "                           probability=False, random_state=0, shrinking=True,\n",
              "                           tol=0.001, verbose=False),\n",
              "             iid='deprecated', n_jobs=None,\n",
              "             param_grid=[{'C': [1.0, 11112.0, 22223.0, 33334.0, 44445.0,\n",
              "                                55556.0, 66667.0, 77778.0, 88889.0, 100000.0],\n",
              "                          'gamma': [1e-05, 0.2500075, 0.500005, 0.7500025, 1.0],\n",
              "                          'kernel': ['linear']},\n",
              "                         {'C': [1.0, 11112.0, 22223.0, 33334.0, 44445.0,\n",
              "                                55556.0, 66667.0, 77778.0, 88889.0, 100000.0],\n",
              "                          'gamma': [1e-05, 0.2500075, 0.500005, 0.7500025, 1.0],\n",
              "                          'kernel': ['rbf']}],\n",
              "             pre_dispatch='2*n_jobs', refit=True, return_train_score=False,\n",
              "             scoring='accuracy', verbose=0)"
            ]
          },
          "metadata": {
            "tags": []
          },
          "execution_count": 59
        }
      ]
    },
    {
      "cell_type": "code",
      "metadata": {
        "colab": {
          "base_uri": "https://localhost:8080/"
        },
        "id": "shHgxmn_JQ5H",
        "outputId": "a8358f51-1c5d-4e16-e9c2-6ddc79c9d99e"
      },
      "source": [
        "print(gridsearchSVC.best_estimator_)"
      ],
      "execution_count": null,
      "outputs": [
        {
          "output_type": "stream",
          "text": [
            "SVC(C=1.0, break_ties=False, cache_size=200, class_weight=None, coef0=0.0,\n",
            "    decision_function_shape='ovr', degree=3, gamma=1e-05, kernel='rbf',\n",
            "    max_iter=-1, probability=False, random_state=0, shrinking=True, tol=0.001,\n",
            "    verbose=False)\n"
          ],
          "name": "stdout"
        }
      ]
    },
    {
      "cell_type": "code",
      "metadata": {
        "colab": {
          "base_uri": "https://localhost:8080/",
          "height": 333
        },
        "id": "MTtHuvfyQm2W",
        "outputId": "818e3c41-097c-4419-e45d-ef115a2d61ae"
      },
      "source": [
        "bestSVC = gridsearchSVC.best_estimator_\n",
        "print(bestSVC.coef_)\n",
        "#score = cross_val_score(bestSVC, X, y.ravel(), scoring='accuracy', cv = 10)\n",
        "#scores['SVC'] = score"
      ],
      "execution_count": null,
      "outputs": [
        {
          "output_type": "error",
          "ename": "AttributeError",
          "evalue": "ignored",
          "traceback": [
            "\u001b[0;31m---------------------------------------------------------------------------\u001b[0m",
            "\u001b[0;31mAttributeError\u001b[0m                            Traceback (most recent call last)",
            "\u001b[0;32m<ipython-input-61-4b7c25617402>\u001b[0m in \u001b[0;36m<module>\u001b[0;34m()\u001b[0m\n\u001b[1;32m      1\u001b[0m \u001b[0mbestSVC\u001b[0m \u001b[0;34m=\u001b[0m \u001b[0mgridsearchSVC\u001b[0m\u001b[0;34m.\u001b[0m\u001b[0mbest_estimator_\u001b[0m\u001b[0;34m\u001b[0m\u001b[0;34m\u001b[0m\u001b[0m\n\u001b[0;32m----> 2\u001b[0;31m \u001b[0mprint\u001b[0m\u001b[0;34m(\u001b[0m\u001b[0mbestSVC\u001b[0m\u001b[0;34m.\u001b[0m\u001b[0mcoef_\u001b[0m\u001b[0;34m)\u001b[0m\u001b[0;34m\u001b[0m\u001b[0;34m\u001b[0m\u001b[0m\n\u001b[0m\u001b[1;32m      3\u001b[0m \u001b[0;31m#score = cross_val_score(bestSVC, X, y.ravel(), scoring='accuracy', cv = 10)\u001b[0m\u001b[0;34m\u001b[0m\u001b[0;34m\u001b[0m\u001b[0;34m\u001b[0m\u001b[0m\n\u001b[1;32m      4\u001b[0m \u001b[0;31m#scores['SVC'] = score\u001b[0m\u001b[0;34m\u001b[0m\u001b[0;34m\u001b[0m\u001b[0;34m\u001b[0m\u001b[0m\n",
            "\u001b[0;32m/usr/local/lib/python3.7/dist-packages/sklearn/svm/_base.py\u001b[0m in \u001b[0;36mcoef_\u001b[0;34m(self)\u001b[0m\n\u001b[1;32m    471\u001b[0m     \u001b[0;32mdef\u001b[0m \u001b[0mcoef_\u001b[0m\u001b[0;34m(\u001b[0m\u001b[0mself\u001b[0m\u001b[0;34m)\u001b[0m\u001b[0;34m:\u001b[0m\u001b[0;34m\u001b[0m\u001b[0;34m\u001b[0m\u001b[0m\n\u001b[1;32m    472\u001b[0m         \u001b[0;32mif\u001b[0m \u001b[0mself\u001b[0m\u001b[0;34m.\u001b[0m\u001b[0mkernel\u001b[0m \u001b[0;34m!=\u001b[0m \u001b[0;34m'linear'\u001b[0m\u001b[0;34m:\u001b[0m\u001b[0;34m\u001b[0m\u001b[0;34m\u001b[0m\u001b[0m\n\u001b[0;32m--> 473\u001b[0;31m             raise AttributeError('coef_ is only available when using a '\n\u001b[0m\u001b[1;32m    474\u001b[0m                                  'linear kernel')\n\u001b[1;32m    475\u001b[0m \u001b[0;34m\u001b[0m\u001b[0m\n",
            "\u001b[0;31mAttributeError\u001b[0m: coef_ is only available when using a linear kernel"
          ]
        }
      ]
    },
    {
      "cell_type": "markdown",
      "metadata": {
        "id": "hg5CfHNZTtfr"
      },
      "source": [
        "Feature Selection (Using Recursive Feature Elimination)"
      ]
    },
    {
      "cell_type": "code",
      "metadata": {
        "id": "at8HR_fhUIqt"
      },
      "source": [
        "from sklearn.feature_selection import RFECV\n",
        "selectorSVC = RFECV(bestSVC)\n",
        "selectorSVC.fit(X, y)\n",
        "selectorSVC.ranking_"
      ],
      "execution_count": null,
      "outputs": []
    },
    {
      "cell_type": "markdown",
      "metadata": {
        "id": "h7TaZ2dktSeB"
      },
      "source": [
        "##Naive Bayes Classifier "
      ]
    },
    {
      "cell_type": "code",
      "metadata": {
        "id": "LLc4GPEqdEzr"
      },
      "source": [
        "# decision tree for feature importance on a classification problem\n",
        "from sklearn.datasets import make_classification\n",
        "from sklearn.tree import DecisionTreeClassifier\n",
        "from matplotlib import pyplot\n",
        "# define dataset\n",
        "X, y = make_classification(n_samples=1000, n_features=10, n_informative=5, n_redundant=5, random_state=1)\n",
        "# define the model\n",
        "model = DecisionTreeClassifier()\n",
        "# fit the model\n",
        "model.fit(X, y)\n",
        "# get importance\n",
        "importance = model.feature_importances_\n",
        "# summarize feature importance\n",
        "for i,v in enumerate(importance):\n",
        "\tprint('Feature: %0d, Score: %.5f' % (i,v))\n",
        "# plot feature importance\n",
        "pyplot.bar([x for x in range(len(importance))], importance)\n",
        "pyplot.show()"
      ],
      "execution_count": null,
      "outputs": []
    },
    {
      "cell_type": "code",
      "metadata": {
        "id": "NzEw1A6dtSMt"
      },
      "source": [
        "from sklearn.naive_bayes import GaussianNB\n",
        "modelNB = GaussianNB()"
      ],
      "execution_count": null,
      "outputs": []
    },
    {
      "cell_type": "markdown",
      "metadata": {
        "id": "AWXMv0zy-zp1"
      },
      "source": [
        "Hyperparameter Tuning"
      ]
    },
    {
      "cell_type": "code",
      "metadata": {
        "id": "SxySXVJgwwMi"
      },
      "source": [
        "print(np.linspace(1e-9,1,num=50))"
      ],
      "execution_count": null,
      "outputs": []
    },
    {
      "cell_type": "code",
      "metadata": {
        "id": "0MrwW-MV-z9k"
      },
      "source": [
        "param_NB = {'var_smoothing': [1.00000000e-09, 2.04081642e-02, 4.08163275e-02, 6.12244907e-02,\n",
        " 8.16326540e-02, 1.02040817e-01, 1.22448980e-01, 1.42857144e-01,\n",
        " 1.63265307e-01, 1.83673470e-01, 2.04081633e-01, 2.24489797e-01,\n",
        " 2.44897960e-01, 2.65306123e-01, 2.85714286e-01, 3.06122450e-01,\n",
        " 3.26530613e-01, 3.46938776e-01, 3.67346939e-01, 3.87755103e-01,\n",
        " 4.08163266e-01, 4.28571429e-01, 4.48979592e-01, 4.69387756e-01,\n",
        " 4.89795919e-01, 5.10204082e-01, 5.30612245e-01, 5.51020409e-01,\n",
        " 5.71428572e-01, 5.91836735e-01, 6.12244898e-01, 6.32653062e-01,\n",
        " 6.53061225e-01, 6.73469388e-01, 6.93877551e-01, 7.14285715e-01,\n",
        " 7.34693878e-01, 7.55102041e-01, 7.75510204e-01, 7.95918368e-01,\n",
        " 8.16326531e-01, 8.36734694e-01, 8.57142857e-01, 8.77551021e-01,\n",
        " 8.97959184e-01, 9.18367347e-01, 9.38775510e-01, 9.59183674e-01,\n",
        " 9.79591837e-01, 1.00000000e+00]}\n",
        "\n",
        "gridNB = GridSearchCV(modelNB, param_grid=param_NB, scoring='accuracy')\n",
        "gridNB.fit(X_train,y_train)"
      ],
      "execution_count": null,
      "outputs": []
    },
    {
      "cell_type": "code",
      "metadata": {
        "id": "Yx0gUKcVzBzr"
      },
      "source": [
        "print(gridNB.best_estimator_)"
      ],
      "execution_count": null,
      "outputs": []
    },
    {
      "cell_type": "code",
      "metadata": {
        "id": "C4IQDpGtQwje"
      },
      "source": [
        "bestNB = gridNB.best_estimator_\n",
        "score = cross_val_score(bestNB, X, y.ravel(), scoring='accuracy', cv = 10)\n",
        "scores['NaiveBayes'] = score"
      ],
      "execution_count": null,
      "outputs": []
    },
    {
      "cell_type": "markdown",
      "metadata": {
        "id": "58u65GBoUYNq"
      },
      "source": [
        "Feature Selection (Using Recursive Feature Elimination)"
      ]
    },
    {
      "cell_type": "code",
      "metadata": {
        "id": "9BxlduwEUY7e"
      },
      "source": [
        ""
      ],
      "execution_count": null,
      "outputs": []
    },
    {
      "cell_type": "markdown",
      "metadata": {
        "id": "n8HgBsuRtlkY"
      },
      "source": [
        "##Decision Tree Classifier"
      ]
    },
    {
      "cell_type": "code",
      "metadata": {
        "id": "x1mi_DbOtlMm"
      },
      "source": [
        "from sklearn.tree import DecisionTreeClassifier\n",
        "modelDecision = DecisionTreeClassifier(criterion = 'entropy', random_state = 0)"
      ],
      "execution_count": 7,
      "outputs": []
    },
    {
      "cell_type": "markdown",
      "metadata": {
        "id": "0pxKtSyC-2S6"
      },
      "source": [
        "Hyperparameter Tuning"
      ]
    },
    {
      "cell_type": "code",
      "metadata": {
        "colab": {
          "base_uri": "https://localhost:8080/"
        },
        "id": "vwqO9DQd-23u",
        "outputId": "6bceb42d-911b-4d2a-83da-2fab37fc394c"
      },
      "source": [
        "from sklearn.model_selection import GridSearchCV\n",
        "paramDecision = [{\n",
        "    \"criterion\": ['gini'],\n",
        "    'splitter': ['best', 'random'],\n",
        "    'max_depth': [1,2,3,4,5,6,7,8,9]\n",
        "},\n",
        "{\n",
        "    \"criterion\": ['entropy'],\n",
        "    'splitter': [\"best\", \"random\"],\n",
        "    'max_depth': [1,2,3,4,5,6,7,8,9]\n",
        "}]\n",
        "\n",
        "gridsearchDecision = GridSearchCV(modelDecision, param_grid=paramDecision, scoring='accuracy')\n",
        "gridsearchDecision.fit(X_train, y_train)"
      ],
      "execution_count": 9,
      "outputs": [
        {
          "output_type": "execute_result",
          "data": {
            "text/plain": [
              "GridSearchCV(cv=None, error_score=nan,\n",
              "             estimator=DecisionTreeClassifier(ccp_alpha=0.0, class_weight=None,\n",
              "                                              criterion='entropy',\n",
              "                                              max_depth=None, max_features=None,\n",
              "                                              max_leaf_nodes=None,\n",
              "                                              min_impurity_decrease=0.0,\n",
              "                                              min_impurity_split=None,\n",
              "                                              min_samples_leaf=1,\n",
              "                                              min_samples_split=2,\n",
              "                                              min_weight_fraction_leaf=0.0,\n",
              "                                              presort='deprecated',\n",
              "                                              random_state=0, splitter='best'),\n",
              "             iid='deprecated', n_jobs=None,\n",
              "             param_grid=[{'criterion': ['gini'],\n",
              "                          'max_depth': [1, 2, 3, 4, 5, 6, 7, 8, 9],\n",
              "                          'splitter': ['best', 'random']},\n",
              "                         {'criterion': ['entropy'],\n",
              "                          'max_depth': [1, 2, 3, 4, 5, 6, 7, 8, 9],\n",
              "                          'splitter': ['best', 'random']}],\n",
              "             pre_dispatch='2*n_jobs', refit=True, return_train_score=False,\n",
              "             scoring='accuracy', verbose=0)"
            ]
          },
          "metadata": {
            "tags": []
          },
          "execution_count": 9
        }
      ]
    },
    {
      "cell_type": "code",
      "metadata": {
        "colab": {
          "base_uri": "https://localhost:8080/"
        },
        "id": "b-Oa51dANp9-",
        "outputId": "2915b823-9365-4fa5-82dd-a649cab5444e"
      },
      "source": [
        "print(gridsearchDecision.best_estimator_)"
      ],
      "execution_count": 10,
      "outputs": [
        {
          "output_type": "stream",
          "text": [
            "DecisionTreeClassifier(ccp_alpha=0.0, class_weight=None, criterion='gini',\n",
            "                       max_depth=1, max_features=None, max_leaf_nodes=None,\n",
            "                       min_impurity_decrease=0.0, min_impurity_split=None,\n",
            "                       min_samples_leaf=1, min_samples_split=2,\n",
            "                       min_weight_fraction_leaf=0.0, presort='deprecated',\n",
            "                       random_state=0, splitter='best')\n"
          ],
          "name": "stdout"
        }
      ]
    },
    {
      "cell_type": "code",
      "metadata": {
        "id": "ogs2LQpbQ-iX"
      },
      "source": [
        "bestDecision = gridsearchDecision.best_estimator_\n",
        "#scoreDecision = cross_validate(bestDecision, X, y.ravel(), cv=10, scoring='accuracy')\n",
        "#scores['DecisionTree'] = scoreDecision"
      ],
      "execution_count": 11,
      "outputs": []
    },
    {
      "cell_type": "markdown",
      "metadata": {
        "id": "GTrysaQbUdDb"
      },
      "source": [
        "Feature Selection (Using Recursive Feature Elimination)"
      ]
    },
    {
      "cell_type": "code",
      "metadata": {
        "colab": {
          "base_uri": "https://localhost:8080/"
        },
        "id": "ugMGltMpUdiq",
        "outputId": "2b54d010-fb71-4ca5-e58c-de57edb08fa3"
      },
      "source": [
        "selectorDecision = RFECV(bestDecision, min_features_to_select = 200)\n",
        "selectorDecision.fit(X, y)\n",
        "#selectorDecision.feature_importances"
      ],
      "execution_count": null,
      "outputs": [
        {
          "output_type": "execute_result",
          "data": {
            "text/plain": [
              "RFECV(cv=None,\n",
              "      estimator=DecisionTreeClassifier(ccp_alpha=0.0, class_weight=None,\n",
              "                                       criterion='gini', max_depth=1,\n",
              "                                       max_features=None, max_leaf_nodes=None,\n",
              "                                       min_impurity_decrease=0.0,\n",
              "                                       min_impurity_split=None,\n",
              "                                       min_samples_leaf=1, min_samples_split=2,\n",
              "                                       min_weight_fraction_leaf=0.0,\n",
              "                                       presort='deprecated', random_state=0,\n",
              "                                       splitter='best'),\n",
              "      min_features_to_select=200, n_jobs=None, scoring=None, step=1, verbose=0)"
            ]
          },
          "metadata": {
            "tags": []
          },
          "execution_count": 66
        }
      ]
    },
    {
      "cell_type": "code",
      "metadata": {
        "id": "afZd4-BahSfP"
      },
      "source": [
        "X = pd.DataFrame(X)\n",
        "X_tran = selectorDecision.transform(X)\n",
        "y = y.reshape(-1, 1)\n",
        "#y_tran = selectorDecision.transform(y)"
      ],
      "execution_count": null,
      "outputs": []
    },
    {
      "cell_type": "code",
      "metadata": {
        "colab": {
          "base_uri": "https://localhost:8080/"
        },
        "id": "7nlZOAUm1Nrp",
        "outputId": "7a090163-49ca-4b3c-eb0f-06801b71ca49"
      },
      "source": [
        "print(X_tran.shape)"
      ],
      "execution_count": null,
      "outputs": [
        {
          "output_type": "stream",
          "text": [
            "(680, 200)\n"
          ],
          "name": "stdout"
        }
      ]
    },
    {
      "cell_type": "code",
      "metadata": {
        "colab": {
          "base_uri": "https://localhost:8080/"
        },
        "id": "pPVQKSI1wMuo",
        "outputId": "ad981548-1522-4409-92ba-a0e0132abd61"
      },
      "source": [
        "from sklearn.feature_selection import RFECV\n",
        "selectorDec = RFECV(bestDecision, step = 1, cv = 10, scoring = 'accuracy')\n",
        "selectorDec.fit(X, y)"
      ],
      "execution_count": 16,
      "outputs": [
        {
          "output_type": "execute_result",
          "data": {
            "text/plain": [
              "RFECV(cv=10,\n",
              "      estimator=DecisionTreeClassifier(ccp_alpha=0.0, class_weight=None,\n",
              "                                       criterion='gini', max_depth=1,\n",
              "                                       max_features=None, max_leaf_nodes=None,\n",
              "                                       min_impurity_decrease=0.0,\n",
              "                                       min_impurity_split=None,\n",
              "                                       min_samples_leaf=1, min_samples_split=2,\n",
              "                                       min_weight_fraction_leaf=0.0,\n",
              "                                       presort='deprecated', random_state=0,\n",
              "                                       splitter='best'),\n",
              "      min_features_to_select=1, n_jobs=None, scoring='accuracy', step=1,\n",
              "      verbose=0)"
            ]
          },
          "metadata": {
            "tags": []
          },
          "execution_count": 16
        }
      ]
    },
    {
      "cell_type": "code",
      "metadata": {
        "colab": {
          "base_uri": "https://localhost:8080/",
          "height": 304
        },
        "id": "GhclnKHEwg70",
        "outputId": "c11bf349-8ddc-4ef9-e54b-5d97c462d47a"
      },
      "source": [
        "plt.figure()\n",
        "plt.xlabel(\"Number of features selected\")\n",
        "plt.ylabel(\"Cross validation score of number of selected features\")\n",
        "plt.plot(range(1, len(selectorDec.grid_scores_) + 1), selectorDec.grid_scores_)\n",
        "plt.show()"
      ],
      "execution_count": 18,
      "outputs": [
        {
          "output_type": "display_data",
          "data": {
            "image/png": "[encoded data removed]",
            "text/plain": [
              "<Figure size 432x288 with 1 Axes>"
            ]
          },
          "metadata": {
            "tags": [],
            "needs_background": "light"
          }
        }
      ]
    },
    {
      "cell_type": "markdown",
      "metadata": {
        "id": "_70epbU30HJ4"
      },
      "source": [
        "##Random Forest Regression"
      ]
    },
    {
      "cell_type": "code",
      "metadata": {
        "id": "iLPYlFOf0Gm8"
      },
      "source": [
        "from sklearn.ensemble import RandomForestClassifier\n",
        "modelRandom = RandomForestClassifier(n_estimators = 10, criterion = 'entropy', random_state = 0)\n",
        "#scoreRandom = cross_val_score(modelRandom, X, y.ravel(), cv=10, scoring='accuracy')\n",
        "#scores['RandomForest'] = scoreRandom"
      ],
      "execution_count": 19,
      "outputs": []
    },
    {
      "cell_type": "markdown",
      "metadata": {
        "id": "6X_O-NxI-35s"
      },
      "source": [
        "Hyperparameter Tuning"
      ]
    },
    {
      "cell_type": "code",
      "metadata": {
        "id": "i46R2W0fcM_N"
      },
      "source": [
        "n_estimators = [int(i) for i in np.linspace(1,60, num=10)]\n",
        "criterion = ['gini', 'entropy']\n",
        "max_feat = ['auto', 'sqrt', 'log2']\n",
        "max_deep = [int(i) for i in np.linspace(1,10,num=5)]\n",
        "minSamSplit = [int(i) for i in np.linspace(1,10,num=5)]\n",
        "minSamLeaf = [int(i) for i in np.linspace(1,10,num=5)]\n",
        "bootstrap = [True, False]"
      ],
      "execution_count": 20,
      "outputs": []
    },
    {
      "cell_type": "code",
      "metadata": {
        "colab": {
          "base_uri": "https://localhost:8080/"
        },
        "id": "FmpDjMxT-4aY",
        "outputId": "0bfac81e-d124-4e58-f699-3c844f7ee58b"
      },
      "source": [
        "paramRandom = [{\n",
        "    'criterion': criterion,\n",
        "    'n_estimators': n_estimators,\n",
        "    \"max_features\": max_feat,\n",
        "    #'max_depth': max_deep,\n",
        "    #'min_samples_split': minSamSplit,\n",
        "    #'min_samples_leaf': minSamLeaf,\n",
        "    'bootstrap': bootstrap\n",
        "}]\n",
        "gridsearchRandom = GridSearchCV(modelRandom, param_grid=paramRandom, scoring='accuracy')\n",
        "gridsearchRandom.fit(X_train, y_train)"
      ],
      "execution_count": 21,
      "outputs": [
        {
          "output_type": "execute_result",
          "data": {
            "text/plain": [
              "GridSearchCV(cv=None, error_score=nan,\n",
              "             estimator=RandomForestClassifier(bootstrap=True, ccp_alpha=0.0,\n",
              "                                              class_weight=None,\n",
              "                                              criterion='entropy',\n",
              "                                              max_depth=None,\n",
              "                                              max_features='auto',\n",
              "                                              max_leaf_nodes=None,\n",
              "                                              max_samples=None,\n",
              "                                              min_impurity_decrease=0.0,\n",
              "                                              min_impurity_split=None,\n",
              "                                              min_samples_leaf=1,\n",
              "                                              min_samples_split=2,\n",
              "                                              min_weight_fraction_leaf=0.0,\n",
              "                                              n_estimators=10, n_jobs=None,\n",
              "                                              oob_score=False, random_state=0,\n",
              "                                              verbose=0, warm_start=False),\n",
              "             iid='deprecated', n_jobs=None,\n",
              "             param_grid=[{'bootstrap': [True, False],\n",
              "                          'criterion': ['gini', 'entropy'],\n",
              "                          'max_features': ['auto', 'sqrt', 'log2'],\n",
              "                          'n_estimators': [1, 7, 14, 20, 27, 33, 40, 46, 53,\n",
              "                                           60]}],\n",
              "             pre_dispatch='2*n_jobs', refit=True, return_train_score=False,\n",
              "             scoring='accuracy', verbose=0)"
            ]
          },
          "metadata": {
            "tags": []
          },
          "execution_count": 21
        }
      ]
    },
    {
      "cell_type": "code",
      "metadata": {
        "colab": {
          "base_uri": "https://localhost:8080/"
        },
        "id": "viWcqPHQd-LQ",
        "outputId": "1a1f2106-9e76-4365-b04b-e1751d3139de"
      },
      "source": [
        "print(gridsearchRandom.best_estimator_)"
      ],
      "execution_count": 22,
      "outputs": [
        {
          "output_type": "stream",
          "text": [
            "RandomForestClassifier(bootstrap=True, ccp_alpha=0.0, class_weight=None,\n",
            "                       criterion='entropy', max_depth=None, max_features='auto',\n",
            "                       max_leaf_nodes=None, max_samples=None,\n",
            "                       min_impurity_decrease=0.0, min_impurity_split=None,\n",
            "                       min_samples_leaf=1, min_samples_split=2,\n",
            "                       min_weight_fraction_leaf=0.0, n_estimators=7,\n",
            "                       n_jobs=None, oob_score=False, random_state=0, verbose=0,\n",
            "                       warm_start=False)\n"
          ],
          "name": "stdout"
        }
      ]
    },
    {
      "cell_type": "code",
      "metadata": {
        "id": "GgwAxQBRLIRb"
      },
      "source": [
        "RandomBest = gridsearchRandom.best_estimator_\n",
        "#scoreRandom = cross_val_score(RandomBest, X, y.ravel(), cv=10, scoring='accuracy')\n",
        "#scores['RandomForest'] = scoreRandom"
      ],
      "execution_count": 23,
      "outputs": []
    },
    {
      "cell_type": "markdown",
      "metadata": {
        "id": "Rdp5mGeyUg7s"
      },
      "source": [
        "Feature Selection (Using Recursive Feature Elimination)"
      ]
    },
    {
      "cell_type": "code",
      "metadata": {
        "id": "7UShpyZmUhQP",
        "colab": {
          "base_uri": "https://localhost:8080/"
        },
        "outputId": "15fca03c-6511-48cd-dc58-a2992c5a71bb"
      },
      "source": [
        "selectorRandom = RFECV(RandomBest, step = 1, cv = 15, scoring = 'accuracy')\n",
        "selectorRandom.fit(X, y)"
      ],
      "execution_count": 24,
      "outputs": [
        {
          "output_type": "execute_result",
          "data": {
            "text/plain": [
              "RFECV(cv=15,\n",
              "      estimator=RandomForestClassifier(bootstrap=True, ccp_alpha=0.0,\n",
              "                                       class_weight=None, criterion='entropy',\n",
              "                                       max_depth=None, max_features='auto',\n",
              "                                       max_leaf_nodes=None, max_samples=None,\n",
              "                                       min_impurity_decrease=0.0,\n",
              "                                       min_impurity_split=None,\n",
              "                                       min_samples_leaf=1, min_samples_split=2,\n",
              "                                       min_weight_fraction_leaf=0.0,\n",
              "                                       n_estimators=7, n_jobs=None,\n",
              "                                       oob_score=False, random_state=0,\n",
              "                                       verbose=0, warm_start=False),\n",
              "      min_features_to_select=1, n_jobs=None, scoring='accuracy', step=1,\n",
              "      verbose=0)"
            ]
          },
          "metadata": {
            "tags": []
          },
          "execution_count": 24
        }
      ]
    },
    {
      "cell_type": "code",
      "metadata": {
        "colab": {
          "base_uri": "https://localhost:8080/",
          "height": 304
        },
        "id": "13ByJhugzwmw",
        "outputId": "ed69cd2c-2340-4462-edb9-2bb7d1663d8f"
      },
      "source": [
        "plt.figure()\n",
        "plt.xlabel(\"Number of features selected\")\n",
        "plt.ylabel(\"Cross validation score of number of selected features\")\n",
        "plt.plot(range(1, len(selectorRandom.grid_scores_) + 1), selectorRandom.grid_scores_)\n",
        "#plt.xlim(700,800)\n",
        "plt.show()"
      ],
      "execution_count": 43,
      "outputs": [
        {
          "output_type": "display_data",
          "data": {
            "image/png": "[encoded data removed]",
            "text/plain": [
              "<Figure size 432x288 with 1 Axes>"
            ]
          },
          "metadata": {
            "tags": [],
            "needs_background": "light"
          }
        }
      ]
    },
    {
      "cell_type": "code",
      "metadata": {
        "id": "tqwn8qUC3F82"
      },
      "source": [
        "nFeat = [i for i in range(1, len(selectorRandom.grid_scores_) + 1)]\n",
        "selecScores = [i for i in selectorRandom.grid_scores_]"
      ],
      "execution_count": 26,
      "outputs": []
    },
    {
      "cell_type": "code",
      "metadata": {
        "id": "MOj6RIN13hli"
      },
      "source": [
        "dictScores = {nFeat[i]: selecScores[i] for i in range(len(nFeat))}"
      ],
      "execution_count": 27,
      "outputs": []
    },
    {
      "cell_type": "code",
      "metadata": {
        "id": "SdD2Qafi4y3O"
      },
      "source": [
        "values = dictScores.values()\n",
        "max = max(values)"
      ],
      "execution_count": 35,
      "outputs": []
    },
    {
      "cell_type": "code",
      "metadata": {
        "colab": {
          "base_uri": "https://localhost:8080/"
        },
        "id": "UQ8IpjH9BdqM",
        "outputId": "cb9174d1-20c6-4df2-a087-4df1d8b5b944"
      },
      "source": [
        "dictScores[800]"
      ],
      "execution_count": 42,
      "outputs": [
        {
          "output_type": "execute_result",
          "data": {
            "text/plain": [
              "0.9809339774557165"
            ]
          },
          "metadata": {
            "tags": []
          },
          "execution_count": 42
        }
      ]
    },
    {
      "cell_type": "code",
      "metadata": {
        "id": "GbUAczxWMsyC"
      },
      "source": [
        "X_feat = selectorRandom.transform(X)\n",
        "scoreRandom = cross_val_score(RandomBest, X_feat, y.ravel(), cv=10, scoring='accuracy')"
      ],
      "execution_count": 46,
      "outputs": []
    },
    {
      "cell_type": "markdown",
      "metadata": {
        "id": "2awSVGKyN_SK"
      },
      "source": [
        "###Score Evaluation"
      ]
    },
    {
      "cell_type": "code",
      "metadata": {
        "id": "R-s5mHT_6YaT",
        "colab": {
          "base_uri": "https://localhost:8080/"
        },
        "outputId": "55a62ff1-1f15-4a74-d71d-037e6fa9e850"
      },
      "source": [
        "print('NaiveBayes')\n",
        "print((sum(scores['NaiveBayes'])) / (len(scores['NaiveBayes'])))\n",
        "print('SVC')\n",
        "print((sum(scores['SVC'])) / (len(scores['SVC'])))\n",
        "print('DecisionTree')\n",
        "print((sum(scores['DecisionTree'])) / (len(scores['DecisionTree'])))\n",
        "print('RandomForest')\n",
        "print((sum(scores['RandomForest'])) / (len(scores['RandomForest']))) "
      ],
      "execution_count": null,
      "outputs": [
        {
          "output_type": "stream",
          "text": [
            "NaiveBayes\n",
            "0.9588235294117646\n",
            "SVC\n",
            "0.9588235294117646\n",
            "DecisionTree\n",
            "0.9588235294117646\n",
            "RandomForest\n",
            "0.9852941176470587\n"
          ],
          "name": "stdout"
        }
      ]
    },
    {
      "cell_type": "code",
      "metadata": {
        "colab": {
          "base_uri": "https://localhost:8080/"
        },
        "id": "u_O8joC-70rl",
        "outputId": "111fdb3a-6a5d-4527-967c-fd9dc1760f4e"
      },
      "source": [
        "means = []\n",
        "for i in scores:\n",
        "  #means.append(sum(scores[i])) / (len(scores[i]))\n",
        "  print(i)\n",
        "  print(scores[i])"
      ],
      "execution_count": null,
      "outputs": [
        {
          "output_type": "stream",
          "text": [
            "SVC\n",
            "[0.97058824 0.97058824 0.95588235 0.95588235 0.95588235 0.95588235\n",
            " 0.95588235 0.95588235 0.95588235 0.95588235]\n",
            "NaiveBayes\n",
            "[0.97058824 0.97058824 0.95588235 0.95588235 0.95588235 0.95588235\n",
            " 0.95588235 0.95588235 0.95588235 0.95588235]\n",
            "DecisionTree\n",
            "[0.97058824 0.97058824 0.95588235 0.95588235 0.95588235 0.95588235\n",
            " 0.95588235 0.95588235 0.95588235 0.95588235]\n",
            "RandomForest\n",
            "[0.98529412 1.         0.95588235 0.95588235 0.98529412 0.98529412\n",
            " 1.         1.         1.         0.98529412]\n"
          ],
          "name": "stdout"
        }
      ]
    },
    {
      "cell_type": "markdown",
      "metadata": {
        "id": "7DTgqhedSNR-"
      },
      "source": [
        "This piece of code conducted grid search to be able to tune hyperparameters to identify the best estimator for each classification model.\n",
        "Then I performed cross validation to ensure the highest testing accuracy"
      ]
    }
  ]
}