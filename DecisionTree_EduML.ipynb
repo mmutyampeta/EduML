{
  "nbformat": 4,
  "nbformat_minor": 0,
  "metadata": {
    "colab": {
      "name": "DecisionTree-EduML",
      "provenance": [],
      "collapsed_sections": [],
      "authorship_tag": "ABX9TyPZJnFEcjbJIBaTHSwrb4LL",
      "include_colab_link": true
    },
    "kernelspec": {
      "name": "python3",
      "display_name": "Python 3"
    },
    "language_info": {
      "name": "python"
    }
  },
  "cells": [
    {
      "cell_type": "markdown",
      "metadata": {
        "id": "view-in-github",
        "colab_type": "text"
      },
      "source": [
        "<a href=\"https://colab.research.google.com/github/mmutyampeta/EduML/blob/main/DecisionTree_EduML.ipynb\" target=\"_parent\"><img src=\"https://colab.research.google.com/assets/colab-badge.svg\" alt=\"Open In Colab\"/></a>"
      ]
    },
    {
      "cell_type": "code",
      "metadata": {
        "id": "FgyMY-2bBd8e"
      },
      "source": [
        "import numpy as np\n",
        "import pandas as pd\n",
        "import matplotlib.pyplot as plt\n",
        "\n",
        "dataset = pd.read_csv(\"2015_16_DistrictwiseNEW.csv\")\n",
        "print(dataset.shape)\n",
        "\n",
        "#prepare the data into the right shapes, and inserting mean values in place of NaN values\n",
        "from sklearn.impute import SimpleImputer\n",
        "imp_mean = SimpleImputer(strategy='mean')\n",
        "dataset = imp_mean.fit_transform(dataset)\n",
        "dataset = pd.DataFrame(dataset)\n",
        "X = dataset.loc[:, dataset.columns != 'OVERALL_LI']\n",
        "y = dataset.iloc[:,11]\n",
        "X = np.array(X)\n",
        "y = np.array(y)\n",
        "y = y.reshape(-1,1)\n",
        "\n",
        "columns = list(dataset.columns)\n",
        "features1 = columns[1:11]\n",
        "features2 = columns[12:]\n",
        "features = features1 + features2\n",
        "\n",
        "from sklearn.model_selection import train_test_split\n",
        "X_train, X_test, y_train, y_test = train_test_split(X,y,test_size=0.2, random_state=0)"
      ],
      "execution_count": null,
      "outputs": []
    },
    {
      "cell_type": "code",
      "metadata": {
        "id": "xBjb-WB_BzSp"
      },
      "source": [
        "from sklearn.tree import DecisionTreeRegressor\n",
        "from sklearn.metrics import r2_score\n",
        "from sklearn.metrics import mean_squared_error\n",
        "model = DecisionTreeRegressor(random_state=0)\n",
        "model.fit(X_train,y_train)\n",
        "y_pred = model.predict(X_test)\n",
        "score = r2_score(y_test,y_pred)\n",
        "print(score)\n",
        "\n",
        "MSE = mean_squared_error(y_test,y_pred)\n",
        "print(MSE)"
      ],
      "execution_count": null,
      "outputs": []
    },
    {
      "cell_type": "code",
      "metadata": {
        "id": "oLg5JogVBzWx"
      },
      "source": [
        "from sklearn.inspection import permutation_importance\n",
        "r = permutation_importance(model, X_test, y_test,\n",
        "                          n_repeats=30,\n",
        "                          random_state=0)\n",
        "\n",
        "best_features = []\n",
        "for i in r.importances_mean.argsort()[::-1]:\n",
        "  if r.importances_mean[i] - 2 * r.importances_std[i] > 0:\n",
        "    if r.importances_mean[i] > 0.55:\n",
        "      print(f\"{features[i]:<8}\"\n",
        "        f\"{r.importances_mean[i]:.3f}\"\n",
        "        f\" +/- {r.importances_std[i]:.3f}\")\n",
        "      best_features.append(features[i])\n",
        "\n",
        "print(best_features)\n",
        "print(len(best_features))"
      ],
      "execution_count": null,
      "outputs": []
    },
    {
      "cell_type": "code",
      "metadata": {
        "id": "gYi6VqdPBzo0"
      },
      "source": [
        "BestVar = dataset.loc[:,best_features]\n",
        "print(BestVar.shape)\n",
        "X_trainN, X_testN, y_trainN, y_testN = train_test_split(BestVar, y, test_size=0.2, random_state=0) "
      ],
      "execution_count": null,
      "outputs": []
    },
    {
      "cell_type": "code",
      "metadata": {
        "id": "BQku8d72Bzss"
      },
      "source": [
        "modelNew = DecisionTreeRegressor(random_state=0)\n",
        "modelNew.fit(X_trainN,y_trainN)\n",
        "y_predN = modelNew.predict(X_testN)\n",
        "scoreN = r2_score(y_testN,y_predN)\n",
        "print(scoreN)\n",
        "\n",
        "MSE = mean_squared_error(y_test,y_pred)\n",
        "print(MSE)"
      ],
      "execution_count": null,
      "outputs": []
    },
    {
      "cell_type": "code",
      "metadata": {
        "id": "AuMTaFmnBzw6"
      },
      "source": [
        ""
      ],
      "execution_count": null,
      "outputs": []
    },
    {
      "cell_type": "code",
      "metadata": {
        "id": "1r4BWsDWBzzr"
      },
      "source": [
        ""
      ],
      "execution_count": null,
      "outputs": []
    }
  ]
}