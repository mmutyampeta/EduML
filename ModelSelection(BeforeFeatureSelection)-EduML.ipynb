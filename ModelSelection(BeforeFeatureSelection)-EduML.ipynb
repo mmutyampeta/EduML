{
  "nbformat": 4,
  "nbformat_minor": 0,
  "metadata": {
    "colab": {
      "name": "ModelSelection(BeforeFeatureSelection)-EduML",
      "provenance": [],
      "collapsed_sections": [],
      "authorship_tag": "ABX9TyMVLIQwJ1yF9tzzcglbYmc4",
      "include_colab_link": true
    },
    "kernelspec": {
      "name": "python3",
      "display_name": "Python 3"
    },
    "language_info": {
      "name": "python"
    }
  },
  "cells": [
    {
      "cell_type": "markdown",
      "metadata": {
        "id": "view-in-github",
        "colab_type": "text"
      },
      "source": [
        "<a href=\"https://colab.research.google.com/github/mmutyampeta/EduML/blob/main/ModelSelection(BeforeFeatureSelection)-EduML.ipynb\" target=\"_parent\"><img src=\"https://colab.research.google.com/assets/colab-badge.svg\" alt=\"Open In Colab\"/></a>"
      ]
    },
    {
      "cell_type": "markdown",
      "metadata": {
        "id": "Ar0o5L3HqFXJ"
      },
      "source": [
        "Libraries "
      ]
    },
    {
      "cell_type": "code",
      "metadata": {
        "id": "hdUsBS0c4oLE"
      },
      "source": [
        "import numpy as np\n",
        "import pandas as pd\n",
        "import matplotlib.pyplot as plt\n",
        "from sklearn.impute import SimpleImputer\n",
        "from sklearn.model_selection import train_test_split\n",
        "from sklearn.metrics import mean_squared_error\n",
        "from sklearn.metrics import r2_score"
      ],
      "execution_count": 15,
      "outputs": []
    },
    {
      "cell_type": "code",
      "metadata": {
        "id": "zdKIcOpPqe-O"
      },
      "source": [
        "dataset = pd.read_csv(\"2015_16_DistrictwiseNEW.csv\")\n",
        "imp_mean = SimpleImputer(strategy='mean')\n",
        "dataset = imp_mean.fit_transform(dataset)\n",
        "dataset = pd.DataFrame(dataset)\n",
        "X = dataset.loc[:, dataset.columns != 'OVERALL_LI']\n",
        "y = dataset.iloc[:,11]\n",
        "X = np.array(X)\n",
        "y = np.array(y)\n",
        "y = y.reshape(-1,1)\n",
        "\n",
        "columns = list(dataset.columns)\n",
        "features1 = columns[1:11]\n",
        "features2 = columns[12:]\n",
        "features = features1 + features2"
      ],
      "execution_count": 16,
      "outputs": []
    },
    {
      "cell_type": "markdown",
      "metadata": {
        "id": "Nb4pHp27taVm"
      },
      "source": [
        "Splitting the data"
      ]
    },
    {
      "cell_type": "code",
      "metadata": {
        "id": "s57hi4hDta4Y"
      },
      "source": [
        "from sklearn.model_selection import train_test_split\n",
        "X_train, X_test, y_train, y_test = train_test_split(X,y,test_size=0.2, random_state=0)"
      ],
      "execution_count": 17,
      "outputs": []
    },
    {
      "cell_type": "code",
      "metadata": {
        "id": "dLs7nV8Z3hjG"
      },
      "source": [
        "scores = {}"
      ],
      "execution_count": 18,
      "outputs": []
    },
    {
      "cell_type": "markdown",
      "metadata": {
        "id": "JkbddRLRqIHE"
      },
      "source": [
        "Polynomial Regression"
      ]
    },
    {
      "cell_type": "code",
      "metadata": {
        "colab": {
          "base_uri": "https://localhost:8080/"
        },
        "id": "RzAeJhfpqH4k",
        "outputId": "31ae1ada-9953-4ed0-9cfc-a2d28a34f602"
      },
      "source": [
        "from sklearn.preprocessing import PolynomialFeatures\n",
        "from sklearn.linear_model import LinearRegression\n",
        "\n",
        "var = 1\n",
        "regFeat1 = PolynomialFeatures(degree=var)\n",
        "X_feat1 = regFeat1.fit_transform(X_train)\n",
        "model = LinearRegression()\n",
        "model.fit(X_feat1,y_train)\n",
        "X_test_feat1 = regFeat1.fit_transform(X_test)\n",
        "y_pred1 = model.predict(X_test_feat1)\n",
        "score1 = mean_squared_error(y_test,y_pred1)\n",
        "print(score1)\n",
        "scores['Polynomial-1'] = score1"
      ],
      "execution_count": 19,
      "outputs": [
        {
          "output_type": "stream",
          "text": [
            "76.35536929787598\n"
          ],
          "name": "stdout"
        }
      ]
    },
    {
      "cell_type": "code",
      "metadata": {
        "colab": {
          "base_uri": "https://localhost:8080/"
        },
        "id": "onCjDl0-sUgT",
        "outputId": "5a0a370f-3c0c-4ca9-b60c-21c2fdc3a443"
      },
      "source": [
        "regFeat2 = PolynomialFeatures(degree=var+1)\n",
        "X_feat2 = regFeat2.fit_transform(X_train)\n",
        "model2 = LinearRegression()\n",
        "model2.fit(X_feat2,y_train)\n",
        "X_test_feat2 = regFeat2.fit_transform(X_test)\n",
        "y_pred2 = model2.predict(X_test_feat2)\n",
        "score2 = mean_squared_error(y_test,y_pred2)\n",
        "print(score2)\n",
        "scores['Polynomial-2'] = score2"
      ],
      "execution_count": 20,
      "outputs": [
        {
          "output_type": "stream",
          "text": [
            "23078944.351932034\n"
          ],
          "name": "stdout"
        }
      ]
    },
    {
      "cell_type": "markdown",
      "metadata": {
        "id": "n8HgBsuRtlkY"
      },
      "source": [
        "Decision Tree Regression"
      ]
    },
    {
      "cell_type": "code",
      "metadata": {
        "colab": {
          "base_uri": "https://localhost:8080/"
        },
        "id": "x1mi_DbOtlMm",
        "outputId": "5ed8c3f2-04f8-4c36-c3e7-b7f55fe32d4f"
      },
      "source": [
        "from sklearn.tree import DecisionTreeRegressor\n",
        "model = DecisionTreeRegressor(random_state=0)\n",
        "model.fit(X_train,y_train)\n",
        "y_pred = model.predict(X_test)\n",
        "score = r2_score(y_test,y_pred)\n",
        "print(score)\n",
        "\n",
        "MSE = mean_squared_error(y_test,y_pred)\n",
        "print(MSE)\n",
        "scores['DecisionTree'] = MSE"
      ],
      "execution_count": 21,
      "outputs": [
        {
          "output_type": "stream",
          "text": [
            "0.9985296648523447\n",
            "0.18542280737678465\n"
          ],
          "name": "stdout"
        }
      ]
    },
    {
      "cell_type": "markdown",
      "metadata": {
        "id": "_70epbU30HJ4"
      },
      "source": [
        "Random Forest Regression"
      ]
    },
    {
      "cell_type": "code",
      "metadata": {
        "colab": {
          "base_uri": "https://localhost:8080/"
        },
        "id": "iLPYlFOf0Gm8",
        "outputId": "1e49c96d-20f3-4512-fc31-68d408b882ad"
      },
      "source": [
        "from sklearn.ensemble import RandomForestRegressor\n",
        "model = RandomForestRegressor(n_estimators=10,random_state=0)\n",
        "model.fit(X_train,y_train)\n",
        "\n",
        "y_pred = model.predict(X_test)\n",
        "score = r2_score(y_test, y_pred)\n",
        "print(score)\n",
        "MSE = mean_squared_error(y_test, y_pred)\n",
        "print(MSE)\n",
        "scores['RandomForest'] = MSE"
      ],
      "execution_count": 22,
      "outputs": [
        {
          "output_type": "stream",
          "text": [
            "/usr/local/lib/python3.7/dist-packages/ipykernel_launcher.py:3: DataConversionWarning: A column-vector y was passed when a 1d array was expected. Please change the shape of y to (n_samples,), for example using ravel().\n",
            "  This is separate from the ipykernel package so we can avoid doing imports until\n"
          ],
          "name": "stderr"
        },
        {
          "output_type": "stream",
          "text": [
            "0.9978134106258519\n",
            "0.2757490637296827\n"
          ],
          "name": "stdout"
        }
      ]
    },
    {
      "cell_type": "code",
      "metadata": {
        "colab": {
          "base_uri": "https://localhost:8080/"
        },
        "id": "R-s5mHT_6YaT",
        "outputId": "b8f70147-7507-4950-f269-11cc607de51f"
      },
      "source": [
        "print(scores)"
      ],
      "execution_count": 23,
      "outputs": [
        {
          "output_type": "stream",
          "text": [
            "{'Polynomial-1': 76.35536929787598, 'Polynomial-2': 23078944.351932034, 'DecisionTree': 0.18542280737678465, 'RandomForest': 0.2757490637296827}\n"
          ],
          "name": "stdout"
        }
      ]
    }
  ]
}