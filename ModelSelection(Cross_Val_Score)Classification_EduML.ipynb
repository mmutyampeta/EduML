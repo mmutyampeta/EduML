{
  "nbformat": 4,
  "nbformat_minor": 0,
  "metadata": {
    "colab": {
      "name": "ModelSelection(Cross-Val-Score)Classification-EduML",
      "provenance": [],
      "collapsed_sections": [],
      "authorship_tag": "ABX9TyNHEv/AK6UyiihEYBlIOuZh",
      "include_colab_link": true
    },
    "kernelspec": {
      "name": "python3",
      "display_name": "Python 3"
    },
    "language_info": {
      "name": "python"
    }
  },
  "cells": [
    {
      "cell_type": "markdown",
      "metadata": {
        "id": "view-in-github",
        "colab_type": "text"
      },
      "source": [
        "<a href=\"https://colab.research.google.com/github/mmutyampeta/EduML/blob/main/ModelSelection(Cross_Val_Score)Classification_EduML.ipynb\" target=\"_parent\"><img src=\"https://colab.research.google.com/assets/colab-badge.svg\" alt=\"Open In Colab\"/></a>"
      ]
    },
    {
      "cell_type": "markdown",
      "metadata": {
        "id": "Ar0o5L3HqFXJ"
      },
      "source": [
        "Libraries "
      ]
    },
    {
      "cell_type": "code",
      "metadata": {
        "id": "hdUsBS0c4oLE"
      },
      "source": [
        "import numpy as np\n",
        "import pandas as pd\n",
        "import matplotlib.pyplot as plt\n",
        "from sklearn.impute import SimpleImputer\n",
        "from sklearn.model_selection import train_test_split\n",
        "from sklearn.metrics import mean_squared_error\n",
        "from sklearn.metrics import r2_score\n",
        "from sklearn.model_selection import cross_val_score\n",
        "from sklearn.model_selection import cross_validate"
      ],
      "execution_count": 34,
      "outputs": []
    },
    {
      "cell_type": "code",
      "metadata": {
        "id": "zdKIcOpPqe-O"
      },
      "source": [
        "dataset = pd.read_csv(\"2015_16_DistrictwiseNEW.csv\")\n",
        "imp_mean = SimpleImputer(strategy='mean')\n",
        "dataset = imp_mean.fit_transform(dataset)\n",
        "dataset = pd.DataFrame(dataset)"
      ],
      "execution_count": 35,
      "outputs": []
    },
    {
      "cell_type": "code",
      "metadata": {
        "id": "kgUNK8JoDPBz"
      },
      "source": [
        "X = dataset.loc[:, dataset.columns != 'OVERALL_LI']\n",
        "y = dataset.iloc[:,11]\n",
        "X = np.array(X)\n",
        "\n",
        "y_new = []\n",
        "for i in y:\n",
        "  if i >= 85:\n",
        "    y_new.append(0)\n",
        "  else:\n",
        "    y_new.append(1)\n",
        "y = y_new\n",
        "y = np.array(y)\n",
        "y = y.reshape(-1,1)\n",
        "y = y.ravel()\n",
        "columns = list(dataset.columns)\n",
        "features1 = columns[1:11]\n",
        "features2 = columns[12:]\n",
        "features = features1 + features2"
      ],
      "execution_count": 36,
      "outputs": []
    },
    {
      "cell_type": "code",
      "metadata": {
        "id": "dLs7nV8Z3hjG"
      },
      "source": [
        "scores = {}"
      ],
      "execution_count": 37,
      "outputs": []
    },
    {
      "cell_type": "code",
      "metadata": {
        "colab": {
          "base_uri": "https://localhost:8080/"
        },
        "id": "JW42fKmfKGKr",
        "outputId": "119a7226-37cf-4ef6-b79b-2e38e8d026a3"
      },
      "source": [
        "from sklearn.model_selection import train_test_split\n",
        "X_train, X_test, y_train, y_test = train_test_split(X,y, random_state=0)\n",
        "print(X_train.shape)\n",
        "print(X_test.shape)\n",
        "print(y_train.shape)\n",
        "print(y_test.shape)"
      ],
      "execution_count": 38,
      "outputs": [
        {
          "output_type": "stream",
          "text": [
            "(510, 813)\n",
            "(170, 813)\n",
            "(510,)\n",
            "(170,)\n"
          ],
          "name": "stdout"
        }
      ]
    },
    {
      "cell_type": "markdown",
      "metadata": {
        "id": "JkbddRLRqIHE"
      },
      "source": [
        "###Support Vector Classifier "
      ]
    },
    {
      "cell_type": "code",
      "metadata": {
        "id": "RzAeJhfpqH4k"
      },
      "source": [
        "from sklearn.svm import SVC\n",
        "modelSVC = SVC(kernel = 'rbf', random_state=0)"
      ],
      "execution_count": 39,
      "outputs": []
    },
    {
      "cell_type": "markdown",
      "metadata": {
        "id": "kSqxqzy3-xI3"
      },
      "source": [
        "Hyperparameter Tuning"
      ]
    },
    {
      "cell_type": "code",
      "metadata": {
        "colab": {
          "base_uri": "https://localhost:8080/"
        },
        "id": "zXm3-W5aam10",
        "outputId": "2d402305-063c-479e-bbb4-cf0f84bbecf5"
      },
      "source": [
        "np.linspace(1,1e+5, num=10)"
      ],
      "execution_count": 40,
      "outputs": [
        {
          "output_type": "execute_result",
          "data": {
            "text/plain": [
              "array([1.0000e+00, 1.1112e+04, 2.2223e+04, 3.3334e+04, 4.4445e+04,\n",
              "       5.5556e+04, 6.6667e+04, 7.7778e+04, 8.8889e+04, 1.0000e+05])"
            ]
          },
          "metadata": {
            "tags": []
          },
          "execution_count": 40
        }
      ]
    },
    {
      "cell_type": "code",
      "metadata": {
        "colab": {
          "base_uri": "https://localhost:8080/"
        },
        "id": "KlSjGGvN-zI5",
        "outputId": "111b9220-d370-4ccc-bda6-81dd30b92140"
      },
      "source": [
        "from sklearn.model_selection import GridSearchCV\n",
        "paramSVC = [{'C': [1.0000e+00, 1.1112e+04, 2.2223e+04, 3.3334e+04, 4.4445e+04,\n",
        "       5.5556e+04, 6.6667e+04, 7.7778e+04, 8.8889e+04, 1.0000e+05], \n",
        "               'gamma': [1.000000e-05, 2.500075e-01, 5.000050e-01, 7.500025e-01,\n",
        "       1.000000e+00], \n",
        "               'kernel': ['linear']\n",
        "               },\n",
        "              {'C': [1.0000e+00, 1.1112e+04, 2.2223e+04, 3.3334e+04, 4.4445e+04,\n",
        "       5.5556e+04, 6.6667e+04, 7.7778e+04, 8.8889e+04, 1.0000e+05],\n",
        "               'gamma': [1.000000e-05, 2.500075e-01, 5.000050e-01, 7.500025e-01,\n",
        "       1.000000e+00],\n",
        "               'kernel': ['rbf']\n",
        "              }]\n",
        "\n",
        "gridsearchSVC = GridSearchCV(modelSVC, param_grid=paramSVC, scoring='accuracy')\n",
        "gridsearchSVC.fit(X_train,y_train)\n",
        "#score2 = cross_val_score(model2, X, y.ravel(), scoring='accuracy', cv = 10)"
      ],
      "execution_count": 41,
      "outputs": [
        {
          "output_type": "execute_result",
          "data": {
            "text/plain": [
              "GridSearchCV(cv=None, error_score=nan,\n",
              "             estimator=SVC(C=1.0, break_ties=False, cache_size=200,\n",
              "                           class_weight=None, coef0=0.0,\n",
              "                           decision_function_shape='ovr', degree=3,\n",
              "                           gamma='scale', kernel='rbf', max_iter=-1,\n",
              "                           probability=False, random_state=0, shrinking=True,\n",
              "                           tol=0.001, verbose=False),\n",
              "             iid='deprecated', n_jobs=None,\n",
              "             param_grid=[{'C': [1.0, 11112.0, 22223.0, 33334.0, 44445.0,\n",
              "                                55556.0, 66667.0, 77778.0, 88889.0, 100000.0],\n",
              "                          'gamma': [1e-05, 0.2500075, 0.500005, 0.7500025, 1.0],\n",
              "                          'kernel': ['linear']},\n",
              "                         {'C': [1.0, 11112.0, 22223.0, 33334.0, 44445.0,\n",
              "                                55556.0, 66667.0, 77778.0, 88889.0, 100000.0],\n",
              "                          'gamma': [1e-05, 0.2500075, 0.500005, 0.7500025, 1.0],\n",
              "                          'kernel': ['rbf']}],\n",
              "             pre_dispatch='2*n_jobs', refit=True, return_train_score=False,\n",
              "             scoring='accuracy', verbose=0)"
            ]
          },
          "metadata": {
            "tags": []
          },
          "execution_count": 41
        }
      ]
    },
    {
      "cell_type": "code",
      "metadata": {
        "colab": {
          "base_uri": "https://localhost:8080/"
        },
        "id": "shHgxmn_JQ5H",
        "outputId": "2cc44178-6949-4229-8dd9-b80d97e52f37"
      },
      "source": [
        "print(gridsearchSVC.best_estimator_)"
      ],
      "execution_count": 42,
      "outputs": [
        {
          "output_type": "stream",
          "text": [
            "SVC(C=1.0, break_ties=False, cache_size=200, class_weight=None, coef0=0.0,\n",
            "    decision_function_shape='ovr', degree=3, gamma=1e-05, kernel='rbf',\n",
            "    max_iter=-1, probability=False, random_state=0, shrinking=True, tol=0.001,\n",
            "    verbose=False)\n"
          ],
          "name": "stdout"
        }
      ]
    },
    {
      "cell_type": "code",
      "metadata": {
        "id": "MTtHuvfyQm2W"
      },
      "source": [
        "bestSVC = gridsearchSVC.best_estimator_\n",
        "score = cross_val_score(bestSVC, X, y.ravel(), scoring='accuracy', cv = 10)\n",
        "scores['SVC'] = score"
      ],
      "execution_count": 43,
      "outputs": []
    },
    {
      "cell_type": "markdown",
      "metadata": {
        "id": "h7TaZ2dktSeB"
      },
      "source": [
        "##Naive Bayes Classifier "
      ]
    },
    {
      "cell_type": "code",
      "metadata": {
        "id": "NzEw1A6dtSMt"
      },
      "source": [
        "from sklearn.naive_bayes import GaussianNB\n",
        "modelNB = GaussianNB()"
      ],
      "execution_count": 44,
      "outputs": []
    },
    {
      "cell_type": "markdown",
      "metadata": {
        "id": "AWXMv0zy-zp1"
      },
      "source": [
        "Hyperparameter Tuning"
      ]
    },
    {
      "cell_type": "code",
      "metadata": {
        "colab": {
          "base_uri": "https://localhost:8080/"
        },
        "id": "SxySXVJgwwMi",
        "outputId": "47e15834-89ea-40df-a6b9-35633b09a55b"
      },
      "source": [
        "print(np.linspace(1e-9,1,num=50))"
      ],
      "execution_count": 45,
      "outputs": [
        {
          "output_type": "stream",
          "text": [
            "[1.00000000e-09 2.04081642e-02 4.08163275e-02 6.12244907e-02\n",
            " 8.16326540e-02 1.02040817e-01 1.22448980e-01 1.42857144e-01\n",
            " 1.63265307e-01 1.83673470e-01 2.04081633e-01 2.24489797e-01\n",
            " 2.44897960e-01 2.65306123e-01 2.85714286e-01 3.06122450e-01\n",
            " 3.26530613e-01 3.46938776e-01 3.67346939e-01 3.87755103e-01\n",
            " 4.08163266e-01 4.28571429e-01 4.48979592e-01 4.69387756e-01\n",
            " 4.89795919e-01 5.10204082e-01 5.30612245e-01 5.51020409e-01\n",
            " 5.71428572e-01 5.91836735e-01 6.12244898e-01 6.32653062e-01\n",
            " 6.53061225e-01 6.73469388e-01 6.93877551e-01 7.14285715e-01\n",
            " 7.34693878e-01 7.55102041e-01 7.75510204e-01 7.95918368e-01\n",
            " 8.16326531e-01 8.36734694e-01 8.57142857e-01 8.77551021e-01\n",
            " 8.97959184e-01 9.18367347e-01 9.38775510e-01 9.59183674e-01\n",
            " 9.79591837e-01 1.00000000e+00]\n"
          ],
          "name": "stdout"
        }
      ]
    },
    {
      "cell_type": "code",
      "metadata": {
        "colab": {
          "base_uri": "https://localhost:8080/"
        },
        "id": "0MrwW-MV-z9k",
        "outputId": "9867ed73-46c1-4efb-a821-6a38908d1d49"
      },
      "source": [
        "param_NB = {'var_smoothing': [1.00000000e-09, 2.04081642e-02, 4.08163275e-02, 6.12244907e-02,\n",
        " 8.16326540e-02, 1.02040817e-01, 1.22448980e-01, 1.42857144e-01,\n",
        " 1.63265307e-01, 1.83673470e-01, 2.04081633e-01, 2.24489797e-01,\n",
        " 2.44897960e-01, 2.65306123e-01, 2.85714286e-01, 3.06122450e-01,\n",
        " 3.26530613e-01, 3.46938776e-01, 3.67346939e-01, 3.87755103e-01,\n",
        " 4.08163266e-01, 4.28571429e-01, 4.48979592e-01, 4.69387756e-01,\n",
        " 4.89795919e-01, 5.10204082e-01, 5.30612245e-01, 5.51020409e-01,\n",
        " 5.71428572e-01, 5.91836735e-01, 6.12244898e-01, 6.32653062e-01,\n",
        " 6.53061225e-01, 6.73469388e-01, 6.93877551e-01, 7.14285715e-01,\n",
        " 7.34693878e-01, 7.55102041e-01, 7.75510204e-01, 7.95918368e-01,\n",
        " 8.16326531e-01, 8.36734694e-01, 8.57142857e-01, 8.77551021e-01,\n",
        " 8.97959184e-01, 9.18367347e-01, 9.38775510e-01, 9.59183674e-01,\n",
        " 9.79591837e-01, 1.00000000e+00]}\n",
        "\n",
        "gridNB = GridSearchCV(modelNB, param_grid=param_NB, scoring='accuracy')\n",
        "gridNB.fit(X_train,y_train)"
      ],
      "execution_count": 46,
      "outputs": [
        {
          "output_type": "execute_result",
          "data": {
            "text/plain": [
              "GridSearchCV(cv=None, error_score=nan,\n",
              "             estimator=GaussianNB(priors=None, var_smoothing=1e-09),\n",
              "             iid='deprecated', n_jobs=None,\n",
              "             param_grid={'var_smoothing': [1e-09, 0.0204081642, 0.0408163275,\n",
              "                                           0.0612244907, 0.081632654,\n",
              "                                           0.102040817, 0.12244898, 0.142857144,\n",
              "                                           0.163265307, 0.18367347, 0.204081633,\n",
              "                                           0.224489797, 0.24489796, 0.265306123,\n",
              "                                           0.285714286, 0.30612245, 0.326530613,\n",
              "                                           0.346938776, 0.367346939,\n",
              "                                           0.387755103, 0.408163266,\n",
              "                                           0.428571429, 0.448979592,\n",
              "                                           0.469387756, 0.489795919,\n",
              "                                           0.510204082, 0.530612245,\n",
              "                                           0.551020409, 0.571428572,\n",
              "                                           0.591836735, ...]},\n",
              "             pre_dispatch='2*n_jobs', refit=True, return_train_score=False,\n",
              "             scoring='accuracy', verbose=0)"
            ]
          },
          "metadata": {
            "tags": []
          },
          "execution_count": 46
        }
      ]
    },
    {
      "cell_type": "code",
      "metadata": {
        "colab": {
          "base_uri": "https://localhost:8080/"
        },
        "id": "Yx0gUKcVzBzr",
        "outputId": "22051a98-ede2-4172-b430-b77551075ddf"
      },
      "source": [
        "print(gridNB.best_estimator_)"
      ],
      "execution_count": 47,
      "outputs": [
        {
          "output_type": "stream",
          "text": [
            "GaussianNB(priors=None, var_smoothing=0.0612244907)\n"
          ],
          "name": "stdout"
        }
      ]
    },
    {
      "cell_type": "code",
      "metadata": {
        "id": "C4IQDpGtQwje"
      },
      "source": [
        "bestNB = gridNB.best_estimator_\n",
        "score = cross_val_score(bestNB, X, y.ravel(), scoring='accuracy', cv = 10)\n",
        "scores['NaiveBayes'] = score"
      ],
      "execution_count": 48,
      "outputs": []
    },
    {
      "cell_type": "markdown",
      "metadata": {
        "id": "n8HgBsuRtlkY"
      },
      "source": [
        "##Decision Tree Classifier"
      ]
    },
    {
      "cell_type": "code",
      "metadata": {
        "id": "x1mi_DbOtlMm"
      },
      "source": [
        "from sklearn.tree import DecisionTreeClassifier\n",
        "modelDecision = DecisionTreeClassifier(criterion = 'entropy', random_state = 0)"
      ],
      "execution_count": 49,
      "outputs": []
    },
    {
      "cell_type": "markdown",
      "metadata": {
        "id": "0pxKtSyC-2S6"
      },
      "source": [
        "Hyperparameter Tuning"
      ]
    },
    {
      "cell_type": "code",
      "metadata": {
        "colab": {
          "base_uri": "https://localhost:8080/"
        },
        "id": "vwqO9DQd-23u",
        "outputId": "24050182-90b3-41a6-f2a7-8f1107643289"
      },
      "source": [
        "paramDecision = [{\n",
        "    \"criterion\": ['gini'],\n",
        "    'splitter': ['best', 'random'],\n",
        "    'max_depth': [1,2,3,4,5,6,7,8,9]\n",
        "},\n",
        "{\n",
        "    \"criterion\": ['entropy'],\n",
        "    'splitter': [\"best\", \"random\"],\n",
        "    'max_depth': [1,2,3,4,5,6,7,8,9]\n",
        "}]\n",
        "\n",
        "gridsearchDecision = GridSearchCV(modelDecision, param_grid=paramDecision, scoring='accuracy')\n",
        "gridsearchDecision.fit(X_train, y_train)"
      ],
      "execution_count": 50,
      "outputs": [
        {
          "output_type": "execute_result",
          "data": {
            "text/plain": [
              "GridSearchCV(cv=None, error_score=nan,\n",
              "             estimator=DecisionTreeClassifier(ccp_alpha=0.0, class_weight=None,\n",
              "                                              criterion='entropy',\n",
              "                                              max_depth=None, max_features=None,\n",
              "                                              max_leaf_nodes=None,\n",
              "                                              min_impurity_decrease=0.0,\n",
              "                                              min_impurity_split=None,\n",
              "                                              min_samples_leaf=1,\n",
              "                                              min_samples_split=2,\n",
              "                                              min_weight_fraction_leaf=0.0,\n",
              "                                              presort='deprecated',\n",
              "                                              random_state=0, splitter='best'),\n",
              "             iid='deprecated', n_jobs=None,\n",
              "             param_grid=[{'criterion': ['gini'],\n",
              "                          'max_depth': [1, 2, 3, 4, 5, 6, 7, 8, 9],\n",
              "                          'splitter': ['best', 'random']},\n",
              "                         {'criterion': ['entropy'],\n",
              "                          'max_depth': [1, 2, 3, 4, 5, 6, 7, 8, 9],\n",
              "                          'splitter': ['best', 'random']}],\n",
              "             pre_dispatch='2*n_jobs', refit=True, return_train_score=False,\n",
              "             scoring='accuracy', verbose=0)"
            ]
          },
          "metadata": {
            "tags": []
          },
          "execution_count": 50
        }
      ]
    },
    {
      "cell_type": "code",
      "metadata": {
        "colab": {
          "base_uri": "https://localhost:8080/"
        },
        "id": "b-Oa51dANp9-",
        "outputId": "32fb7d23-9253-4009-aaf1-43a2d3503234"
      },
      "source": [
        "print(gridsearchDecision.best_estimator_)"
      ],
      "execution_count": 51,
      "outputs": [
        {
          "output_type": "stream",
          "text": [
            "DecisionTreeClassifier(ccp_alpha=0.0, class_weight=None, criterion='gini',\n",
            "                       max_depth=1, max_features=None, max_leaf_nodes=None,\n",
            "                       min_impurity_decrease=0.0, min_impurity_split=None,\n",
            "                       min_samples_leaf=1, min_samples_split=2,\n",
            "                       min_weight_fraction_leaf=0.0, presort='deprecated',\n",
            "                       random_state=0, splitter='best')\n"
          ],
          "name": "stdout"
        }
      ]
    },
    {
      "cell_type": "code",
      "metadata": {
        "id": "ogs2LQpbQ-iX"
      },
      "source": [
        "bestDecision = gridsearchDecision.best_estimator_\n",
        "scoreDecision = cross_validate(bestDecision, X, y.ravel(), cv=10, scoring='accuracy')\n",
        "scores['DecisionTree'] = score"
      ],
      "execution_count": 52,
      "outputs": []
    },
    {
      "cell_type": "markdown",
      "metadata": {
        "id": "_70epbU30HJ4"
      },
      "source": [
        "##Random Forest Regression"
      ]
    },
    {
      "cell_type": "code",
      "metadata": {
        "id": "iLPYlFOf0Gm8"
      },
      "source": [
        "from sklearn.ensemble import RandomForestClassifier\n",
        "modelRandom = RandomForestClassifier(n_estimators = 10, criterion = 'entropy', random_state = 0)\n",
        "#scoreRandom = cross_val_score(modelRandom, X, y.ravel(), cv=10, scoring='accuracy')\n",
        "#scores['RandomForest'] = scoreRandom"
      ],
      "execution_count": 53,
      "outputs": []
    },
    {
      "cell_type": "markdown",
      "metadata": {
        "id": "6X_O-NxI-35s"
      },
      "source": [
        "Hyperparameter Tuning"
      ]
    },
    {
      "cell_type": "code",
      "metadata": {
        "id": "i46R2W0fcM_N"
      },
      "source": [
        "n_estimators = [int(i) for i in np.linspace(1,60, num=10)]\n",
        "criterion = ['gini', 'entropy']\n",
        "max_feat = ['auto', 'sqrt', 'log2']\n",
        "max_deep = [int(i) for i in np.linspace(1,10,num=5)]\n",
        "minSamSplit = [int(i) for i in np.linspace(1,10,num=5)]\n",
        "minSamLeaf = [int(i) for i in np.linspace(1,10,num=5)]\n",
        "bootstrap = [True, False]"
      ],
      "execution_count": 54,
      "outputs": []
    },
    {
      "cell_type": "code",
      "metadata": {
        "colab": {
          "base_uri": "https://localhost:8080/"
        },
        "id": "FmpDjMxT-4aY",
        "outputId": "ed1c124d-3957-4d92-f0f2-d5f215ffbc8e"
      },
      "source": [
        "paramRandom = [{\n",
        "    'criterion': criterion,\n",
        "    'n_estimators': n_estimators,\n",
        "    \"max_features\": max_feat,\n",
        "    #'max_depth': max_deep,\n",
        "    #'min_samples_split': minSamSplit,\n",
        "    #'min_samples_leaf': minSamLeaf,\n",
        "    'bootstrap': bootstrap\n",
        "}]\n",
        "gridsearchRandom = GridSearchCV(modelRandom, param_grid=paramRandom, scoring='accuracy')\n",
        "gridsearchRandom.fit(X_train, y_train)"
      ],
      "execution_count": 55,
      "outputs": [
        {
          "output_type": "execute_result",
          "data": {
            "text/plain": [
              "GridSearchCV(cv=None, error_score=nan,\n",
              "             estimator=RandomForestClassifier(bootstrap=True, ccp_alpha=0.0,\n",
              "                                              class_weight=None,\n",
              "                                              criterion='entropy',\n",
              "                                              max_depth=None,\n",
              "                                              max_features='auto',\n",
              "                                              max_leaf_nodes=None,\n",
              "                                              max_samples=None,\n",
              "                                              min_impurity_decrease=0.0,\n",
              "                                              min_impurity_split=None,\n",
              "                                              min_samples_leaf=1,\n",
              "                                              min_samples_split=2,\n",
              "                                              min_weight_fraction_leaf=0.0,\n",
              "                                              n_estimators=10, n_jobs=None,\n",
              "                                              oob_score=False, random_state=0,\n",
              "                                              verbose=0, warm_start=False),\n",
              "             iid='deprecated', n_jobs=None,\n",
              "             param_grid=[{'bootstrap': [True, False],\n",
              "                          'criterion': ['gini', 'entropy'],\n",
              "                          'max_features': ['auto', 'sqrt', 'log2'],\n",
              "                          'n_estimators': [1, 7, 14, 20, 27, 33, 40, 46, 53,\n",
              "                                           60]}],\n",
              "             pre_dispatch='2*n_jobs', refit=True, return_train_score=False,\n",
              "             scoring='accuracy', verbose=0)"
            ]
          },
          "metadata": {
            "tags": []
          },
          "execution_count": 55
        }
      ]
    },
    {
      "cell_type": "code",
      "metadata": {
        "colab": {
          "base_uri": "https://localhost:8080/"
        },
        "id": "viWcqPHQd-LQ",
        "outputId": "9a569066-c9ff-4b79-ed1c-01893b41145b"
      },
      "source": [
        "print(gridsearchRandom.best_estimator_)"
      ],
      "execution_count": 56,
      "outputs": [
        {
          "output_type": "stream",
          "text": [
            "RandomForestClassifier(bootstrap=True, ccp_alpha=0.0, class_weight=None,\n",
            "                       criterion='entropy', max_depth=None, max_features='auto',\n",
            "                       max_leaf_nodes=None, max_samples=None,\n",
            "                       min_impurity_decrease=0.0, min_impurity_split=None,\n",
            "                       min_samples_leaf=1, min_samples_split=2,\n",
            "                       min_weight_fraction_leaf=0.0, n_estimators=7,\n",
            "                       n_jobs=None, oob_score=False, random_state=0, verbose=0,\n",
            "                       warm_start=False)\n"
          ],
          "name": "stdout"
        }
      ]
    },
    {
      "cell_type": "code",
      "metadata": {
        "id": "GgwAxQBRLIRb"
      },
      "source": [
        "RandomBest = gridsearchRandom.best_estimator_\n",
        "scoreRandom = cross_val_score(RandomBest, X, y.ravel(), cv=10, scoring='accuracy')\n",
        "scores['RandomForest'] = scoreRandom"
      ],
      "execution_count": 57,
      "outputs": []
    },
    {
      "cell_type": "code",
      "metadata": {
        "colab": {
          "base_uri": "https://localhost:8080/"
        },
        "id": "sq0yQFGtLXOu",
        "outputId": "4dbe9f35-89c4-4822-a51c-403bbdd1012c"
      },
      "source": [
        "print((sum(scores['RandomForest'])) / (len(scores['RandomForest']))) "
      ],
      "execution_count": 58,
      "outputs": [
        {
          "output_type": "stream",
          "text": [
            "0.9852941176470587\n"
          ],
          "name": "stdout"
        }
      ]
    },
    {
      "cell_type": "markdown",
      "metadata": {
        "id": "2awSVGKyN_SK"
      },
      "source": [
        "###Score Evaluation"
      ]
    },
    {
      "cell_type": "code",
      "metadata": {
        "id": "R-s5mHT_6YaT",
        "colab": {
          "base_uri": "https://localhost:8080/"
        },
        "outputId": "55a62ff1-1f15-4a74-d71d-037e6fa9e850"
      },
      "source": [
        "print('NaiveBayes')\n",
        "print((sum(scores['NaiveBayes'])) / (len(scores['NaiveBayes'])))\n",
        "print('SVC')\n",
        "print((sum(scores['SVC'])) / (len(scores['SVC'])))\n",
        "print('DecisionTree')\n",
        "print((sum(scores['DecisionTree'])) / (len(scores['DecisionTree'])))\n",
        "print('RandomForest')\n",
        "print((sum(scores['RandomForest'])) / (len(scores['RandomForest']))) "
      ],
      "execution_count": 59,
      "outputs": [
        {
          "output_type": "stream",
          "text": [
            "NaiveBayes\n",
            "0.9588235294117646\n",
            "SVC\n",
            "0.9588235294117646\n",
            "DecisionTree\n",
            "0.9588235294117646\n",
            "RandomForest\n",
            "0.9852941176470587\n"
          ],
          "name": "stdout"
        }
      ]
    },
    {
      "cell_type": "code",
      "metadata": {
        "colab": {
          "base_uri": "https://localhost:8080/"
        },
        "id": "u_O8joC-70rl",
        "outputId": "111fdb3a-6a5d-4527-967c-fd9dc1760f4e"
      },
      "source": [
        "means = []\n",
        "for i in scores:\n",
        "  #means.append(sum(scores[i])) / (len(scores[i]))\n",
        "  print(i)\n",
        "  print(scores[i])"
      ],
      "execution_count": 60,
      "outputs": [
        {
          "output_type": "stream",
          "text": [
            "SVC\n",
            "[0.97058824 0.97058824 0.95588235 0.95588235 0.95588235 0.95588235\n",
            " 0.95588235 0.95588235 0.95588235 0.95588235]\n",
            "NaiveBayes\n",
            "[0.97058824 0.97058824 0.95588235 0.95588235 0.95588235 0.95588235\n",
            " 0.95588235 0.95588235 0.95588235 0.95588235]\n",
            "DecisionTree\n",
            "[0.97058824 0.97058824 0.95588235 0.95588235 0.95588235 0.95588235\n",
            " 0.95588235 0.95588235 0.95588235 0.95588235]\n",
            "RandomForest\n",
            "[0.98529412 1.         0.95588235 0.95588235 0.98529412 0.98529412\n",
            " 1.         1.         1.         0.98529412]\n"
          ],
          "name": "stdout"
        }
      ]
    },
    {
      "cell_type": "markdown",
      "metadata": {
        "id": "7DTgqhedSNR-"
      },
      "source": [
        "This piece of code conducted grid search to be able to tune hyperparameters to identify the best estimator for each classification model.\n",
        "Then I performed cross validation to ensure the highest testing accuracy"
      ]
    }
  ]
}