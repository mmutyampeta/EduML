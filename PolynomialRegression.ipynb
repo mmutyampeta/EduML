{
  "nbformat": 4,
  "nbformat_minor": 0,
  "metadata": {
    "colab": {
      "name": "PolynomialRegression",
      "provenance": [],
      "authorship_tag": "ABX9TyMG2H3FM5UJqlufX+AbOGFZ",
      "include_colab_link": true
    },
    "kernelspec": {
      "name": "python3",
      "display_name": "Python 3"
    },
    "language_info": {
      "name": "python"
    }
  },
  "cells": [
    {
      "cell_type": "markdown",
      "metadata": {
        "id": "view-in-github",
        "colab_type": "text"
      },
      "source": [
        "<a href=\"https://colab.research.google.com/github/mmutyampeta/EduML/blob/main/PolynomialRegression.ipynb\" target=\"_parent\"><img src=\"https://colab.research.google.com/assets/colab-badge.svg\" alt=\"Open In Colab\"/></a>"
      ]
    },
    {
      "cell_type": "code",
      "metadata": {
        "id": "QgSFLsBnWgBZ"
      },
      "source": [
        "import numpy as np\n",
        "import pandas as pd\n",
        "import matplotlib.pyplot as plt\n",
        "dataset = pd.read_csv(\"2015_16_DistrictwiseNEW.csv\")\n",
        "\n",
        "from sklearn.impute import SimpleImputer\n",
        "imp_mean = SimpleImputer(strategy='mean')\n",
        "dataset = imp_mean.fit_transform(dataset)\n",
        "dataset = pd.DataFrame(dataset)\n",
        "X = dataset.loc[:, dataset.columns != 'OVERALL_LI']\n",
        "y = dataset.iloc[:,11]\n",
        "X = np.array(X)\n",
        "y = np.array(y)\n",
        "y = y.reshape(-1,1)"
      ],
      "execution_count": 5,
      "outputs": []
    },
    {
      "cell_type": "code",
      "metadata": {
        "id": "5_w6ZEOJW1Di"
      },
      "source": [
        "columns = list(dataset.columns)\n",
        "features1 = columns[1:11]\n",
        "features2 = columns[12:]\n",
        "features = features1 + features2"
      ],
      "execution_count": 6,
      "outputs": []
    },
    {
      "cell_type": "code",
      "metadata": {
        "id": "1LpTswxFW1WZ"
      },
      "source": [
        "from sklearn.model_selection import train_test_split\n",
        "X_train, X_test, y_train, y_test = train_test_split(X,y,test_size=0.2, random_state=0)"
      ],
      "execution_count": 7,
      "outputs": []
    },
    {
      "cell_type": "code",
      "metadata": {
        "id": "21Q-O4UsW1Zm"
      },
      "source": [
        "from sklearn.preprocessing import PolynomialFeatures\n",
        "from sklearn.linear_model import LinearRegression\n",
        "from sklearn.metrics import r2_score\n",
        "#featureList = {1:00,2:00,3:00,4:00,5:00,6:00,7:00,8:00,9:00,10:00,11:00}\n",
        "#for i in range(1,8):\n",
        "#  regFeat = PolynomialFeatures(degree=i)\n",
        "#  X_feat = regFeat.fit_transform(X_train)\n",
        "#  lin_reg1 = LinearRegression()\n",
        "#  lin_reg.fit(X_feat,y_train)\n",
        "#  X_test_feat = regFeat.fit_transform(X_test)\n",
        "#  y_pred = lin_reg1.predict(X_test_feat)\n",
        "#  featureList[i+1] = r2_score(y_test,y_pred)\n",
        "#  print(i)"
      ],
      "execution_count": 8,
      "outputs": []
    },
    {
      "cell_type": "markdown",
      "metadata": {
        "id": "3KLUZRYGGpHs"
      },
      "source": [
        "Degree of 1"
      ]
    },
    {
      "cell_type": "code",
      "metadata": {
        "colab": {
          "base_uri": "https://localhost:8080/"
        },
        "id": "bdhEx86ZW1c3",
        "outputId": "0c4f95ee-7372-4091-920e-63339155d3a7"
      },
      "source": [
        "var = 1\n",
        "regFeat1 = PolynomialFeatures(degree=var)\n",
        "X_feat1 = regFeat1.fit_transform(X_train)\n",
        "model = LinearRegression()\n",
        "model.fit(X_feat1,y_train)\n",
        "X_test_feat1 = regFeat1.fit_transform(X_test)\n",
        "y_pred1 = model.predict(X_test_feat1)\n",
        "score1 = r2_score(y_test,y_pred1)\n",
        "print(score1)"
      ],
      "execution_count": 9,
      "outputs": [
        {
          "output_type": "stream",
          "text": [
            "0.3945298058035869\n"
          ],
          "name": "stdout"
        }
      ]
    },
    {
      "cell_type": "code",
      "metadata": {
        "colab": {
          "base_uri": "https://localhost:8080/"
        },
        "id": "E5ZsiNYsW1gF",
        "outputId": "9df557a3-7834-4b28-96b4-5c43d4d726cb"
      },
      "source": [
        "from sklearn.inspection import permutation_importance\n",
        "r = permutation_importance(model, X_test_feat1, y_test,\n",
        "                          n_repeats=30,\n",
        "                          random_state=0)\n",
        "\n",
        "strong_features1 = []\n",
        "for i in r.importances_mean.argsort()[::-1]:\n",
        "  if r.importances_mean[i] - 2 * r.importances_std[i] > 0:\n",
        "    if r.importances_mean[i] > 0.55:\n",
        "      print(f\"{features[i]:<8}\"\n",
        "        f\"{r.importances_mean[i]:.3f}\"\n",
        "        f\" +/- {r.importances_std[i]:.3f}\")\n",
        "      strong_features1.append(features[i])\n",
        "\n",
        "print(strong_features1)\n",
        "print(len(strong_features1))"
      ],
      "execution_count": 10,
      "outputs": [
        {
          "output_type": "stream",
          "text": [
            "365     837.691 +/- 86.565\n",
            "358     358.354 +/- 33.192\n",
            "753     206.871 +/- 17.958\n",
            "359     204.557 +/- 17.606\n",
            "117     150.883 +/- 13.605\n",
            "747     118.671 +/- 10.753\n",
            "106     118.572 +/- 11.449\n",
            "498     94.991 +/- 10.562\n",
            "126     80.409 +/- 7.362\n",
            "363     66.227 +/- 2.505\n",
            "109     59.046 +/- 4.928\n",
            "500     58.550 +/- 6.250\n",
            "110     46.690 +/- 3.286\n",
            "105     34.364 +/- 1.607\n",
            "361     33.553 +/- 2.819\n",
            "751     32.977 +/- 2.276\n",
            "104     30.586 +/- 2.082\n",
            "760     29.627 +/- 3.988\n",
            "362     22.422 +/- 1.588\n",
            "100     20.985 +/- 1.929\n",
            "587     16.595 +/- 1.628\n",
            "360     16.280 +/- 1.400\n",
            "750     16.138 +/- 1.377\n",
            "440     15.638 +/- 1.479\n",
            "118     15.178 +/- 1.366\n",
            "364     14.947 +/- 1.513\n",
            "228     13.158 +/- 1.167\n",
            "447     13.150 +/- 1.464\n",
            "113     12.785 +/- 0.926\n",
            "124     11.807 +/- 1.120\n",
            "438     11.406 +/- 1.091\n",
            "752     11.183 +/- 0.406\n",
            "99      9.848 +/- 0.884\n",
            "135     9.525 +/- 0.723\n",
            "341     9.288 +/- 0.969\n",
            "342     9.157 +/- 0.729\n",
            "499     8.383 +/- 0.867\n",
            "103     8.018 +/- 0.740\n",
            "441     7.868 +/- 0.892\n",
            "119     7.174 +/- 0.818\n",
            "493     7.145 +/- 0.571\n",
            "430     6.980 +/- 0.577\n",
            "237     6.774 +/- 0.556\n",
            "449     6.644 +/- 0.788\n",
            "55      6.513 +/- 0.542\n",
            "91      6.022 +/- 0.507\n",
            "491     5.825 +/- 0.658\n",
            "115     5.747 +/- 0.612\n",
            "285     5.413 +/- 0.432\n",
            "810     5.332 +/- 0.472\n",
            "327     5.332 +/- 0.472\n",
            "448     5.125 +/- 0.479\n",
            "108     5.018 +/- 0.478\n",
            "221     4.938 +/- 0.435\n",
            "101     4.872 +/- 0.443\n",
            "107     4.274 +/- 0.405\n",
            "446     4.104 +/- 0.400\n",
            "120     3.660 +/- 0.331\n",
            "158     3.658 +/- 0.274\n",
            "83      3.565 +/- 0.318\n",
            "27      3.444 +/- 0.365\n",
            "123     3.391 +/- 0.157\n",
            "128     3.026 +/- 0.254\n",
            "63      3.025 +/- 0.281\n",
            "309     2.997 +/- 0.309\n",
            "741     2.927 +/- 0.310\n",
            "36      2.895 +/- 0.277\n",
            "155     2.762 +/- 0.203\n",
            "586     2.569 +/- 0.246\n",
            "504     2.513 +/- 0.282\n",
            "325     2.451 +/- 0.283\n",
            "754     2.356 +/- 0.240\n",
            "334     2.334 +/- 0.242\n",
            "338     2.321 +/- 0.233\n",
            "497     2.180 +/- 0.255\n",
            "317     2.089 +/- 0.219\n",
            "111     2.032 +/- 0.215\n",
            "492     2.020 +/- 0.271\n",
            "122     2.013 +/- 0.238\n",
            "236     1.934 +/- 0.190\n",
            "72      1.852 +/- 0.175\n",
            "494     1.836 +/- 0.203\n",
            "370     1.778 +/- 0.192\n",
            "400     1.752 +/- 0.205\n",
            "490     1.719 +/- 0.151\n",
            "452     1.707 +/- 0.256\n",
            "502     1.599 +/- 0.203\n",
            "495     1.564 +/- 0.205\n",
            "691     1.545 +/- 0.178\n",
            "443     1.500 +/- 0.141\n",
            "197     1.481 +/- 0.124\n",
            "204     1.394 +/- 0.186\n",
            "139     1.320 +/- 0.153\n",
            "749     1.311 +/- 0.150\n",
            "646     1.306 +/- 0.140\n",
            "767     1.299 +/- 0.162\n",
            "144     1.293 +/- 0.109\n",
            "450     1.286 +/- 0.127\n",
            "445     1.276 +/- 0.140\n",
            "496     1.266 +/- 0.168\n",
            "92      1.236 +/- 0.128\n",
            "167     1.202 +/- 0.150\n",
            "240     1.164 +/- 0.150\n",
            "803     1.148 +/- 0.176\n",
            "125     1.134 +/- 0.130\n",
            "798     1.105 +/- 0.088\n",
            "682     1.090 +/- 0.126\n",
            "678     1.062 +/- 0.093\n",
            "132     1.020 +/- 0.143\n",
            "588     1.005 +/- 0.123\n",
            "759     0.986 +/- 0.152\n",
            "67      0.916 +/- 0.115\n",
            "129     0.909 +/- 0.122\n",
            "434     0.886 +/- 0.125\n",
            "136     0.884 +/- 0.088\n",
            "639     0.884 +/- 0.104\n",
            "401     0.879 +/- 0.086\n",
            "505     0.876 +/- 0.114\n",
            "635     0.874 +/- 0.129\n",
            "19      0.863 +/- 0.090\n",
            "407     0.849 +/- 0.146\n",
            "806     0.823 +/- 0.061\n",
            "198     0.784 +/- 0.118\n",
            "14      0.745 +/- 0.131\n",
            "224     0.733 +/- 0.094\n",
            "229     0.727 +/- 0.112\n",
            "171     0.714 +/- 0.100\n",
            "318     0.703 +/- 0.098\n",
            "337     0.694 +/- 0.091\n",
            "758     0.674 +/- 0.106\n",
            "218     0.663 +/- 0.072\n",
            "284     0.661 +/- 0.087\n",
            "293     0.647 +/- 0.064\n",
            "431     0.646 +/- 0.069\n",
            "455     0.630 +/- 0.065\n",
            "164     0.609 +/- 0.100\n",
            "102     0.604 +/- 0.085\n",
            "730     0.575 +/- 0.062\n",
            "805     0.563 +/- 0.085\n",
            "94      0.553 +/- 0.075\n",
            "[365, 358, 753, 359, 117, 747, 106, 498, 126, 363, 109, 500, 110, 105, 361, 751, 104, 760, 362, 100, 587, 360, 750, 440, 118, 364, 228, 447, 113, 124, 438, 752, 99, 135, 341, 342, 499, 103, 441, 119, 493, 430, 237, 449, 55, 91, 491, 115, 285, 810, 327, 448, 108, 221, 101, 107, 446, 120, 158, 83, 27, 123, 128, 63, 309, 741, 36, 155, 586, 504, 325, 754, 334, 338, 497, 317, 111, 492, 122, 236, 72, 494, 370, 400, 490, 452, 502, 495, 691, 443, 197, 204, 139, 749, 646, 767, 144, 450, 445, 496, 92, 167, 240, 803, 125, 798, 682, 678, 132, 588, 759, 67, 129, 434, 136, 639, 401, 505, 635, 19, 407, 806, 198, 14, 224, 229, 171, 318, 337, 758, 218, 284, 293, 431, 455, 164, 102, 730, 805, 94]\n",
            "140\n"
          ],
          "name": "stdout"
        }
      ]
    },
    {
      "cell_type": "code",
      "metadata": {
        "colab": {
          "base_uri": "https://localhost:8080/"
        },
        "id": "sIrmCk3gXfLp",
        "outputId": "fff9ea7f-35e4-45f0-92dd-da4a937d3902"
      },
      "source": [
        "linRegBestVar1 = dataset.loc[:,strong_features1]\n",
        "linRegBestVar1 = pd.DataFrame(linRegBestVar1, columns=strong_features1)\n",
        "print(type(linRegBestVar1))\n",
        "linRegBestVar1 = imp_mean.fit_transform(linRegBestVar1)\n",
        "#check = linRegBestVar.isnull().values.any()\n",
        "X_train, X_test, y_train, y_test = train_test_split(linRegBestVar1, y, test_size=0.2, random_state=0) "
      ],
      "execution_count": 14,
      "outputs": [
        {
          "output_type": "stream",
          "text": [
            "<class 'pandas.core.frame.DataFrame'>\n"
          ],
          "name": "stdout"
        }
      ]
    },
    {
      "cell_type": "code",
      "metadata": {
        "colab": {
          "base_uri": "https://localhost:8080/"
        },
        "id": "Zb47JDN94lUV",
        "outputId": "cdec8812-a7f6-47c6-ed34-b5a08ad03206"
      },
      "source": [
        "regFeat = PolynomialFeatures(degree=var)\n",
        "X_feat = regFeat.fit_transform(X_train)\n",
        "modelNew = LinearRegression()\n",
        "modelNew.fit(X_feat,y_train)\n",
        "X_test_feat = regFeat.fit_transform(X_test)\n",
        "y_pred = modelNew.predict(X_test_feat)\n",
        "score = r2_score(y_test,y_pred)\n",
        "print(score)"
      ],
      "execution_count": 16,
      "outputs": [
        {
          "output_type": "stream",
          "text": [
            "0.3551731543142994\n"
          ],
          "name": "stdout"
        }
      ]
    },
    {
      "cell_type": "markdown",
      "metadata": {
        "id": "ksU7aZgRGf4Q"
      },
      "source": [
        "Degree of 2"
      ]
    },
    {
      "cell_type": "code",
      "metadata": {
        "colab": {
          "base_uri": "https://localhost:8080/"
        },
        "id": "ReDdWV7A-LpA",
        "outputId": "2cded80d-a8f1-4d51-e920-486167e04114"
      },
      "source": [
        "regFeat2 = PolynomialFeatures(degree=var+1)\n",
        "X_feat2 = regFeat2.fit_transform(X_train)\n",
        "model2 = LinearRegression()\n",
        "model2.fit(X_feat2,y_train)\n",
        "X_test_feat2 = regFeat2.fit_transform(X_test)\n",
        "y_pred2 = model2.predict(X_test_feat2)\n",
        "score2 = r2_score(y_test,y_pred2)\n",
        "print(score2)"
      ],
      "execution_count": 17,
      "outputs": [
        {
          "output_type": "stream",
          "text": [
            "-533481.0522136391\n"
          ],
          "name": "stdout"
        }
      ]
    },
    {
      "cell_type": "code",
      "metadata": {
        "colab": {
          "base_uri": "https://localhost:8080/",
          "height": 374
        },
        "id": "pm_xXtS7GE6N",
        "outputId": "e8e666ec-f372-4c50-e77f-580b26447936"
      },
      "source": [
        "from sklearn.inspection import permutation_importance\n",
        "r = permutation_importance(model2, X_test_feat2, y_test,\n",
        "                          n_repeats=30,\n",
        "                          random_state=0)\n",
        "\n",
        "strong_features2 = []\n",
        "for i in r.importances_mean.argsort()[::-1]:\n",
        "  if r.importances_mean[i] - 2 * r.importances_std[i] > 0:\n",
        "    if r.importances_mean[i] > 0.55:\n",
        "      print(f\"{features[i]:<8}\"\n",
        "        f\"{r.importances_mean[i]:.3f}\"\n",
        "        f\" +/- {r.importances_std[i]:.3f}\")\n",
        "      strong_features2.append(features[i])\n",
        "\n",
        "print(strong_features2)\n",
        "print(len(strong_features2))"
      ],
      "execution_count": 18,
      "outputs": [
        {
          "output_type": "error",
          "ename": "KeyboardInterrupt",
          "evalue": "ignored",
          "traceback": [
            "\u001b[0;31m---------------------------------------------------------------------------\u001b[0m",
            "\u001b[0;31mKeyboardInterrupt\u001b[0m                         Traceback (most recent call last)",
            "\u001b[0;32m<ipython-input-18-b9c05b2c2853>\u001b[0m in \u001b[0;36m<module>\u001b[0;34m()\u001b[0m\n\u001b[1;32m      2\u001b[0m r = permutation_importance(model2, X_test_feat2, y_test,\n\u001b[1;32m      3\u001b[0m                           \u001b[0mn_repeats\u001b[0m\u001b[0;34m=\u001b[0m\u001b[0;36m30\u001b[0m\u001b[0;34m,\u001b[0m\u001b[0;34m\u001b[0m\u001b[0;34m\u001b[0m\u001b[0m\n\u001b[0;32m----> 4\u001b[0;31m                           random_state=0)\n\u001b[0m\u001b[1;32m      5\u001b[0m \u001b[0;34m\u001b[0m\u001b[0m\n\u001b[1;32m      6\u001b[0m \u001b[0mstrong_features2\u001b[0m \u001b[0;34m=\u001b[0m \u001b[0;34m[\u001b[0m\u001b[0;34m]\u001b[0m\u001b[0;34m\u001b[0m\u001b[0;34m\u001b[0m\u001b[0m\n",
            "\u001b[0;32m/usr/local/lib/python3.7/dist-packages/sklearn/inspection/_permutation_importance.py\u001b[0m in \u001b[0;36mpermutation_importance\u001b[0;34m(estimator, X, y, scoring, n_repeats, n_jobs, random_state)\u001b[0m\n\u001b[1;32m    116\u001b[0m     scores = Parallel(n_jobs=n_jobs)(delayed(_calculate_permutation_scores)(\n\u001b[1;32m    117\u001b[0m         \u001b[0mestimator\u001b[0m\u001b[0;34m,\u001b[0m \u001b[0mX\u001b[0m\u001b[0;34m,\u001b[0m \u001b[0my\u001b[0m\u001b[0;34m,\u001b[0m \u001b[0mcol_idx\u001b[0m\u001b[0;34m,\u001b[0m \u001b[0mrandom_seed\u001b[0m\u001b[0;34m,\u001b[0m \u001b[0mn_repeats\u001b[0m\u001b[0;34m,\u001b[0m \u001b[0mscorer\u001b[0m\u001b[0;34m\u001b[0m\u001b[0;34m\u001b[0m\u001b[0m\n\u001b[0;32m--> 118\u001b[0;31m     ) for col_idx in range(X.shape[1]))\n\u001b[0m\u001b[1;32m    119\u001b[0m \u001b[0;34m\u001b[0m\u001b[0m\n\u001b[1;32m    120\u001b[0m     \u001b[0mimportances\u001b[0m \u001b[0;34m=\u001b[0m \u001b[0mbaseline_score\u001b[0m \u001b[0;34m-\u001b[0m \u001b[0mnp\u001b[0m\u001b[0;34m.\u001b[0m\u001b[0marray\u001b[0m\u001b[0;34m(\u001b[0m\u001b[0mscores\u001b[0m\u001b[0;34m)\u001b[0m\u001b[0;34m\u001b[0m\u001b[0;34m\u001b[0m\u001b[0m\n",
            "\u001b[0;32m/usr/local/lib/python3.7/dist-packages/joblib/parallel.py\u001b[0m in \u001b[0;36m__call__\u001b[0;34m(self, iterable)\u001b[0m\n\u001b[1;32m   1042\u001b[0m                 \u001b[0mself\u001b[0m\u001b[0;34m.\u001b[0m\u001b[0m_iterating\u001b[0m \u001b[0;34m=\u001b[0m \u001b[0mself\u001b[0m\u001b[0;34m.\u001b[0m\u001b[0m_original_iterator\u001b[0m \u001b[0;32mis\u001b[0m \u001b[0;32mnot\u001b[0m \u001b[0;32mNone\u001b[0m\u001b[0;34m\u001b[0m\u001b[0;34m\u001b[0m\u001b[0m\n\u001b[1;32m   1043\u001b[0m \u001b[0;34m\u001b[0m\u001b[0m\n\u001b[0;32m-> 1044\u001b[0;31m             \u001b[0;32mwhile\u001b[0m \u001b[0mself\u001b[0m\u001b[0;34m.\u001b[0m\u001b[0mdispatch_one_batch\u001b[0m\u001b[0;34m(\u001b[0m\u001b[0miterator\u001b[0m\u001b[0;34m)\u001b[0m\u001b[0;34m:\u001b[0m\u001b[0;34m\u001b[0m\u001b[0;34m\u001b[0m\u001b[0m\n\u001b[0m\u001b[1;32m   1045\u001b[0m                 \u001b[0;32mpass\u001b[0m\u001b[0;34m\u001b[0m\u001b[0;34m\u001b[0m\u001b[0m\n\u001b[1;32m   1046\u001b[0m \u001b[0;34m\u001b[0m\u001b[0m\n",
            "\u001b[0;32m/usr/local/lib/python3.7/dist-packages/joblib/parallel.py\u001b[0m in \u001b[0;36mdispatch_one_batch\u001b[0;34m(self, iterator)\u001b[0m\n\u001b[1;32m    857\u001b[0m                 \u001b[0;32mreturn\u001b[0m \u001b[0;32mFalse\u001b[0m\u001b[0;34m\u001b[0m\u001b[0;34m\u001b[0m\u001b[0m\n\u001b[1;32m    858\u001b[0m             \u001b[0;32melse\u001b[0m\u001b[0;34m:\u001b[0m\u001b[0;34m\u001b[0m\u001b[0;34m\u001b[0m\u001b[0m\n\u001b[0;32m--> 859\u001b[0;31m                 \u001b[0mself\u001b[0m\u001b[0;34m.\u001b[0m\u001b[0m_dispatch\u001b[0m\u001b[0;34m(\u001b[0m\u001b[0mtasks\u001b[0m\u001b[0;34m)\u001b[0m\u001b[0;34m\u001b[0m\u001b[0;34m\u001b[0m\u001b[0m\n\u001b[0m\u001b[1;32m    860\u001b[0m                 \u001b[0;32mreturn\u001b[0m \u001b[0;32mTrue\u001b[0m\u001b[0;34m\u001b[0m\u001b[0;34m\u001b[0m\u001b[0m\n\u001b[1;32m    861\u001b[0m \u001b[0;34m\u001b[0m\u001b[0m\n",
            "\u001b[0;32m/usr/local/lib/python3.7/dist-packages/joblib/parallel.py\u001b[0m in \u001b[0;36m_dispatch\u001b[0;34m(self, batch)\u001b[0m\n\u001b[1;32m    775\u001b[0m         \u001b[0;32mwith\u001b[0m \u001b[0mself\u001b[0m\u001b[0;34m.\u001b[0m\u001b[0m_lock\u001b[0m\u001b[0;34m:\u001b[0m\u001b[0;34m\u001b[0m\u001b[0;34m\u001b[0m\u001b[0m\n\u001b[1;32m    776\u001b[0m             \u001b[0mjob_idx\u001b[0m \u001b[0;34m=\u001b[0m \u001b[0mlen\u001b[0m\u001b[0;34m(\u001b[0m\u001b[0mself\u001b[0m\u001b[0;34m.\u001b[0m\u001b[0m_jobs\u001b[0m\u001b[0;34m)\u001b[0m\u001b[0;34m\u001b[0m\u001b[0;34m\u001b[0m\u001b[0m\n\u001b[0;32m--> 777\u001b[0;31m             \u001b[0mjob\u001b[0m \u001b[0;34m=\u001b[0m \u001b[0mself\u001b[0m\u001b[0;34m.\u001b[0m\u001b[0m_backend\u001b[0m\u001b[0;34m.\u001b[0m\u001b[0mapply_async\u001b[0m\u001b[0;34m(\u001b[0m\u001b[0mbatch\u001b[0m\u001b[0;34m,\u001b[0m \u001b[0mcallback\u001b[0m\u001b[0;34m=\u001b[0m\u001b[0mcb\u001b[0m\u001b[0;34m)\u001b[0m\u001b[0;34m\u001b[0m\u001b[0;34m\u001b[0m\u001b[0m\n\u001b[0m\u001b[1;32m    778\u001b[0m             \u001b[0;31m# A job can complete so quickly than its callback is\u001b[0m\u001b[0;34m\u001b[0m\u001b[0;34m\u001b[0m\u001b[0;34m\u001b[0m\u001b[0m\n\u001b[1;32m    779\u001b[0m             \u001b[0;31m# called before we get here, causing self._jobs to\u001b[0m\u001b[0;34m\u001b[0m\u001b[0;34m\u001b[0m\u001b[0;34m\u001b[0m\u001b[0m\n",
            "\u001b[0;32m/usr/local/lib/python3.7/dist-packages/joblib/_parallel_backends.py\u001b[0m in \u001b[0;36mapply_async\u001b[0;34m(self, func, callback)\u001b[0m\n\u001b[1;32m    206\u001b[0m     \u001b[0;32mdef\u001b[0m \u001b[0mapply_async\u001b[0m\u001b[0;34m(\u001b[0m\u001b[0mself\u001b[0m\u001b[0;34m,\u001b[0m \u001b[0mfunc\u001b[0m\u001b[0;34m,\u001b[0m \u001b[0mcallback\u001b[0m\u001b[0;34m=\u001b[0m\u001b[0;32mNone\u001b[0m\u001b[0;34m)\u001b[0m\u001b[0;34m:\u001b[0m\u001b[0;34m\u001b[0m\u001b[0;34m\u001b[0m\u001b[0m\n\u001b[1;32m    207\u001b[0m         \u001b[0;34m\"\"\"Schedule a func to be run\"\"\"\u001b[0m\u001b[0;34m\u001b[0m\u001b[0;34m\u001b[0m\u001b[0m\n\u001b[0;32m--> 208\u001b[0;31m         \u001b[0mresult\u001b[0m \u001b[0;34m=\u001b[0m \u001b[0mImmediateResult\u001b[0m\u001b[0;34m(\u001b[0m\u001b[0mfunc\u001b[0m\u001b[0;34m)\u001b[0m\u001b[0;34m\u001b[0m\u001b[0;34m\u001b[0m\u001b[0m\n\u001b[0m\u001b[1;32m    209\u001b[0m         \u001b[0;32mif\u001b[0m \u001b[0mcallback\u001b[0m\u001b[0;34m:\u001b[0m\u001b[0;34m\u001b[0m\u001b[0;34m\u001b[0m\u001b[0m\n\u001b[1;32m    210\u001b[0m             \u001b[0mcallback\u001b[0m\u001b[0;34m(\u001b[0m\u001b[0mresult\u001b[0m\u001b[0;34m)\u001b[0m\u001b[0;34m\u001b[0m\u001b[0;34m\u001b[0m\u001b[0m\n",
            "\u001b[0;32m/usr/local/lib/python3.7/dist-packages/joblib/_parallel_backends.py\u001b[0m in \u001b[0;36m__init__\u001b[0;34m(self, batch)\u001b[0m\n\u001b[1;32m    570\u001b[0m         \u001b[0;31m# Don't delay the application, to avoid keeping the input\u001b[0m\u001b[0;34m\u001b[0m\u001b[0;34m\u001b[0m\u001b[0;34m\u001b[0m\u001b[0m\n\u001b[1;32m    571\u001b[0m         \u001b[0;31m# arguments in memory\u001b[0m\u001b[0;34m\u001b[0m\u001b[0;34m\u001b[0m\u001b[0;34m\u001b[0m\u001b[0m\n\u001b[0;32m--> 572\u001b[0;31m         \u001b[0mself\u001b[0m\u001b[0;34m.\u001b[0m\u001b[0mresults\u001b[0m \u001b[0;34m=\u001b[0m \u001b[0mbatch\u001b[0m\u001b[0;34m(\u001b[0m\u001b[0;34m)\u001b[0m\u001b[0;34m\u001b[0m\u001b[0;34m\u001b[0m\u001b[0m\n\u001b[0m\u001b[1;32m    573\u001b[0m \u001b[0;34m\u001b[0m\u001b[0m\n\u001b[1;32m    574\u001b[0m     \u001b[0;32mdef\u001b[0m \u001b[0mget\u001b[0m\u001b[0;34m(\u001b[0m\u001b[0mself\u001b[0m\u001b[0;34m)\u001b[0m\u001b[0;34m:\u001b[0m\u001b[0;34m\u001b[0m\u001b[0;34m\u001b[0m\u001b[0m\n",
            "\u001b[0;32m/usr/local/lib/python3.7/dist-packages/joblib/parallel.py\u001b[0m in \u001b[0;36m__call__\u001b[0;34m(self)\u001b[0m\n\u001b[1;32m    261\u001b[0m         \u001b[0;32mwith\u001b[0m \u001b[0mparallel_backend\u001b[0m\u001b[0;34m(\u001b[0m\u001b[0mself\u001b[0m\u001b[0;34m.\u001b[0m\u001b[0m_backend\u001b[0m\u001b[0;34m,\u001b[0m \u001b[0mn_jobs\u001b[0m\u001b[0;34m=\u001b[0m\u001b[0mself\u001b[0m\u001b[0;34m.\u001b[0m\u001b[0m_n_jobs\u001b[0m\u001b[0;34m)\u001b[0m\u001b[0;34m:\u001b[0m\u001b[0;34m\u001b[0m\u001b[0;34m\u001b[0m\u001b[0m\n\u001b[1;32m    262\u001b[0m             return [func(*args, **kwargs)\n\u001b[0;32m--> 263\u001b[0;31m                     for func, args, kwargs in self.items]\n\u001b[0m\u001b[1;32m    264\u001b[0m \u001b[0;34m\u001b[0m\u001b[0m\n\u001b[1;32m    265\u001b[0m     \u001b[0;32mdef\u001b[0m \u001b[0m__reduce__\u001b[0m\u001b[0;34m(\u001b[0m\u001b[0mself\u001b[0m\u001b[0;34m)\u001b[0m\u001b[0;34m:\u001b[0m\u001b[0;34m\u001b[0m\u001b[0;34m\u001b[0m\u001b[0m\n",
            "\u001b[0;32m/usr/local/lib/python3.7/dist-packages/joblib/parallel.py\u001b[0m in \u001b[0;36m<listcomp>\u001b[0;34m(.0)\u001b[0m\n\u001b[1;32m    261\u001b[0m         \u001b[0;32mwith\u001b[0m \u001b[0mparallel_backend\u001b[0m\u001b[0;34m(\u001b[0m\u001b[0mself\u001b[0m\u001b[0;34m.\u001b[0m\u001b[0m_backend\u001b[0m\u001b[0;34m,\u001b[0m \u001b[0mn_jobs\u001b[0m\u001b[0;34m=\u001b[0m\u001b[0mself\u001b[0m\u001b[0;34m.\u001b[0m\u001b[0m_n_jobs\u001b[0m\u001b[0;34m)\u001b[0m\u001b[0;34m:\u001b[0m\u001b[0;34m\u001b[0m\u001b[0;34m\u001b[0m\u001b[0m\n\u001b[1;32m    262\u001b[0m             return [func(*args, **kwargs)\n\u001b[0;32m--> 263\u001b[0;31m                     for func, args, kwargs in self.items]\n\u001b[0m\u001b[1;32m    264\u001b[0m \u001b[0;34m\u001b[0m\u001b[0m\n\u001b[1;32m    265\u001b[0m     \u001b[0;32mdef\u001b[0m \u001b[0m__reduce__\u001b[0m\u001b[0;34m(\u001b[0m\u001b[0mself\u001b[0m\u001b[0;34m)\u001b[0m\u001b[0;34m:\u001b[0m\u001b[0;34m\u001b[0m\u001b[0;34m\u001b[0m\u001b[0m\n",
            "\u001b[0;32m/usr/local/lib/python3.7/dist-packages/sklearn/inspection/_permutation_importance.py\u001b[0m in \u001b[0;36m_calculate_permutation_scores\u001b[0;34m(estimator, X, y, col_idx, random_state, n_repeats, scorer)\u001b[0m\n\u001b[1;32m     32\u001b[0m         \u001b[0;32melse\u001b[0m\u001b[0;34m:\u001b[0m\u001b[0;34m\u001b[0m\u001b[0;34m\u001b[0m\u001b[0m\n\u001b[1;32m     33\u001b[0m             \u001b[0mX_permuted\u001b[0m\u001b[0;34m[\u001b[0m\u001b[0;34m:\u001b[0m\u001b[0;34m,\u001b[0m \u001b[0mcol_idx\u001b[0m\u001b[0;34m]\u001b[0m \u001b[0;34m=\u001b[0m \u001b[0mX_permuted\u001b[0m\u001b[0;34m[\u001b[0m\u001b[0mshuffling_idx\u001b[0m\u001b[0;34m,\u001b[0m \u001b[0mcol_idx\u001b[0m\u001b[0;34m]\u001b[0m\u001b[0;34m\u001b[0m\u001b[0;34m\u001b[0m\u001b[0m\n\u001b[0;32m---> 34\u001b[0;31m         \u001b[0mfeature_score\u001b[0m \u001b[0;34m=\u001b[0m \u001b[0mscorer\u001b[0m\u001b[0;34m(\u001b[0m\u001b[0mestimator\u001b[0m\u001b[0;34m,\u001b[0m \u001b[0mX_permuted\u001b[0m\u001b[0;34m,\u001b[0m \u001b[0my\u001b[0m\u001b[0;34m)\u001b[0m\u001b[0;34m\u001b[0m\u001b[0;34m\u001b[0m\u001b[0m\n\u001b[0m\u001b[1;32m     35\u001b[0m         \u001b[0mscores\u001b[0m\u001b[0;34m[\u001b[0m\u001b[0mn_round\u001b[0m\u001b[0;34m]\u001b[0m \u001b[0;34m=\u001b[0m \u001b[0mfeature_score\u001b[0m\u001b[0;34m\u001b[0m\u001b[0;34m\u001b[0m\u001b[0m\n\u001b[1;32m     36\u001b[0m \u001b[0;34m\u001b[0m\u001b[0m\n",
            "\u001b[0;32m/usr/local/lib/python3.7/dist-packages/sklearn/metrics/_scorer.py\u001b[0m in \u001b[0;36m_passthrough_scorer\u001b[0;34m(estimator, *args, **kwargs)\u001b[0m\n\u001b[1;32m    369\u001b[0m \u001b[0;32mdef\u001b[0m \u001b[0m_passthrough_scorer\u001b[0m\u001b[0;34m(\u001b[0m\u001b[0mestimator\u001b[0m\u001b[0;34m,\u001b[0m \u001b[0;34m*\u001b[0m\u001b[0margs\u001b[0m\u001b[0;34m,\u001b[0m \u001b[0;34m**\u001b[0m\u001b[0mkwargs\u001b[0m\u001b[0;34m)\u001b[0m\u001b[0;34m:\u001b[0m\u001b[0;34m\u001b[0m\u001b[0;34m\u001b[0m\u001b[0m\n\u001b[1;32m    370\u001b[0m     \u001b[0;34m\"\"\"Function that wraps estimator.score\"\"\"\u001b[0m\u001b[0;34m\u001b[0m\u001b[0;34m\u001b[0m\u001b[0m\n\u001b[0;32m--> 371\u001b[0;31m     \u001b[0;32mreturn\u001b[0m \u001b[0mestimator\u001b[0m\u001b[0;34m.\u001b[0m\u001b[0mscore\u001b[0m\u001b[0;34m(\u001b[0m\u001b[0;34m*\u001b[0m\u001b[0margs\u001b[0m\u001b[0;34m,\u001b[0m \u001b[0;34m**\u001b[0m\u001b[0mkwargs\u001b[0m\u001b[0;34m)\u001b[0m\u001b[0;34m\u001b[0m\u001b[0;34m\u001b[0m\u001b[0m\n\u001b[0m\u001b[1;32m    372\u001b[0m \u001b[0;34m\u001b[0m\u001b[0m\n\u001b[1;32m    373\u001b[0m \u001b[0;34m\u001b[0m\u001b[0m\n",
            "\u001b[0;32m/usr/local/lib/python3.7/dist-packages/sklearn/base.py\u001b[0m in \u001b[0;36mscore\u001b[0;34m(self, X, y, sample_weight)\u001b[0m\n\u001b[1;32m    420\u001b[0m         \u001b[0;32mfrom\u001b[0m \u001b[0;34m.\u001b[0m\u001b[0mmetrics\u001b[0m \u001b[0;32mimport\u001b[0m \u001b[0mr2_score\u001b[0m\u001b[0;34m\u001b[0m\u001b[0;34m\u001b[0m\u001b[0m\n\u001b[1;32m    421\u001b[0m         \u001b[0;32mfrom\u001b[0m \u001b[0;34m.\u001b[0m\u001b[0mmetrics\u001b[0m\u001b[0;34m.\u001b[0m\u001b[0m_regression\u001b[0m \u001b[0;32mimport\u001b[0m \u001b[0m_check_reg_targets\u001b[0m\u001b[0;34m\u001b[0m\u001b[0;34m\u001b[0m\u001b[0m\n\u001b[0;32m--> 422\u001b[0;31m         \u001b[0my_pred\u001b[0m \u001b[0;34m=\u001b[0m \u001b[0mself\u001b[0m\u001b[0;34m.\u001b[0m\u001b[0mpredict\u001b[0m\u001b[0;34m(\u001b[0m\u001b[0mX\u001b[0m\u001b[0;34m)\u001b[0m\u001b[0;34m\u001b[0m\u001b[0;34m\u001b[0m\u001b[0m\n\u001b[0m\u001b[1;32m    423\u001b[0m         \u001b[0;31m# XXX: Remove the check in 0.23\u001b[0m\u001b[0;34m\u001b[0m\u001b[0;34m\u001b[0m\u001b[0;34m\u001b[0m\u001b[0m\n\u001b[1;32m    424\u001b[0m         \u001b[0my_type\u001b[0m\u001b[0;34m,\u001b[0m \u001b[0m_\u001b[0m\u001b[0;34m,\u001b[0m \u001b[0m_\u001b[0m\u001b[0;34m,\u001b[0m \u001b[0m_\u001b[0m \u001b[0;34m=\u001b[0m \u001b[0m_check_reg_targets\u001b[0m\u001b[0;34m(\u001b[0m\u001b[0my\u001b[0m\u001b[0;34m,\u001b[0m \u001b[0my_pred\u001b[0m\u001b[0;34m,\u001b[0m \u001b[0;32mNone\u001b[0m\u001b[0;34m)\u001b[0m\u001b[0;34m\u001b[0m\u001b[0;34m\u001b[0m\u001b[0m\n",
            "\u001b[0;32m/usr/local/lib/python3.7/dist-packages/sklearn/linear_model/_base.py\u001b[0m in \u001b[0;36mpredict\u001b[0;34m(self, X)\u001b[0m\n\u001b[1;32m    223\u001b[0m             \u001b[0mReturns\u001b[0m \u001b[0mpredicted\u001b[0m \u001b[0mvalues\u001b[0m\u001b[0;34m.\u001b[0m\u001b[0;34m\u001b[0m\u001b[0;34m\u001b[0m\u001b[0m\n\u001b[1;32m    224\u001b[0m         \"\"\"\n\u001b[0;32m--> 225\u001b[0;31m         \u001b[0;32mreturn\u001b[0m \u001b[0mself\u001b[0m\u001b[0;34m.\u001b[0m\u001b[0m_decision_function\u001b[0m\u001b[0;34m(\u001b[0m\u001b[0mX\u001b[0m\u001b[0;34m)\u001b[0m\u001b[0;34m\u001b[0m\u001b[0;34m\u001b[0m\u001b[0m\n\u001b[0m\u001b[1;32m    226\u001b[0m \u001b[0;34m\u001b[0m\u001b[0m\n\u001b[1;32m    227\u001b[0m     \u001b[0m_preprocess_data\u001b[0m \u001b[0;34m=\u001b[0m \u001b[0mstaticmethod\u001b[0m\u001b[0;34m(\u001b[0m\u001b[0m_preprocess_data\u001b[0m\u001b[0;34m)\u001b[0m\u001b[0;34m\u001b[0m\u001b[0;34m\u001b[0m\u001b[0m\n",
            "\u001b[0;32m/usr/local/lib/python3.7/dist-packages/sklearn/linear_model/_base.py\u001b[0m in \u001b[0;36m_decision_function\u001b[0;34m(self, X)\u001b[0m\n\u001b[1;32m    207\u001b[0m         \u001b[0mX\u001b[0m \u001b[0;34m=\u001b[0m \u001b[0mcheck_array\u001b[0m\u001b[0;34m(\u001b[0m\u001b[0mX\u001b[0m\u001b[0;34m,\u001b[0m \u001b[0maccept_sparse\u001b[0m\u001b[0;34m=\u001b[0m\u001b[0;34m[\u001b[0m\u001b[0;34m'csr'\u001b[0m\u001b[0;34m,\u001b[0m \u001b[0;34m'csc'\u001b[0m\u001b[0;34m,\u001b[0m \u001b[0;34m'coo'\u001b[0m\u001b[0;34m]\u001b[0m\u001b[0;34m)\u001b[0m\u001b[0;34m\u001b[0m\u001b[0;34m\u001b[0m\u001b[0m\n\u001b[1;32m    208\u001b[0m         return safe_sparse_dot(X, self.coef_.T,\n\u001b[0;32m--> 209\u001b[0;31m                                dense_output=True) + self.intercept_\n\u001b[0m\u001b[1;32m    210\u001b[0m \u001b[0;34m\u001b[0m\u001b[0m\n\u001b[1;32m    211\u001b[0m     \u001b[0;32mdef\u001b[0m \u001b[0mpredict\u001b[0m\u001b[0;34m(\u001b[0m\u001b[0mself\u001b[0m\u001b[0;34m,\u001b[0m \u001b[0mX\u001b[0m\u001b[0;34m)\u001b[0m\u001b[0;34m:\u001b[0m\u001b[0;34m\u001b[0m\u001b[0;34m\u001b[0m\u001b[0m\n",
            "\u001b[0;32m/usr/local/lib/python3.7/dist-packages/sklearn/utils/extmath.py\u001b[0m in \u001b[0;36msafe_sparse_dot\u001b[0;34m(a, b, dense_output)\u001b[0m\n\u001b[1;32m    149\u001b[0m             \u001b[0mret\u001b[0m \u001b[0;34m=\u001b[0m \u001b[0mnp\u001b[0m\u001b[0;34m.\u001b[0m\u001b[0mdot\u001b[0m\u001b[0;34m(\u001b[0m\u001b[0ma\u001b[0m\u001b[0;34m,\u001b[0m \u001b[0mb\u001b[0m\u001b[0;34m)\u001b[0m\u001b[0;34m\u001b[0m\u001b[0;34m\u001b[0m\u001b[0m\n\u001b[1;32m    150\u001b[0m     \u001b[0;32melse\u001b[0m\u001b[0;34m:\u001b[0m\u001b[0;34m\u001b[0m\u001b[0;34m\u001b[0m\u001b[0m\n\u001b[0;32m--> 151\u001b[0;31m         \u001b[0mret\u001b[0m \u001b[0;34m=\u001b[0m \u001b[0ma\u001b[0m \u001b[0;34m@\u001b[0m \u001b[0mb\u001b[0m\u001b[0;34m\u001b[0m\u001b[0;34m\u001b[0m\u001b[0m\n\u001b[0m\u001b[1;32m    152\u001b[0m \u001b[0;34m\u001b[0m\u001b[0m\n\u001b[1;32m    153\u001b[0m     if (sparse.issparse(a) and sparse.issparse(b)\n",
            "\u001b[0;31mKeyboardInterrupt\u001b[0m: "
          ]
        }
      ]
    },
    {
      "cell_type": "code",
      "metadata": {
        "id": "fp2wmCpAGyo8"
      },
      "source": [
        "linRegBestVar2 = dataset.loc[:,strong_features2]\n",
        "linRegBestVar2 = pd.DataFrame(linRegBestVar2, columns=strong_features2)\n",
        "print(type(linRegBestVar2))\n",
        "linRegBestVar2 = imp_mean.fit_transform(linRegBestVar2)\n",
        "#check = linRegBestVar.isnull().values.any()\n",
        "X_train, X_test, y_train, y_test = train_test_split(linRegBestVar2, y, test_size=0.2, random_state=0) \n",
        "\n",
        "regFeat = PolynomialFeatures(degree=var)\n",
        "X_feat = regFeat.fit_transform(X_train)\n",
        "modelNew = LinearRegression()\n",
        "modelNew.fit(X_feat,y_train)\n",
        "X_test_feat = regFeat.fit_transform(X_test)\n",
        "y_pred = lin_reg.predict(X_test_feat)\n",
        "score = r2_score(y_test,y_pred)\n",
        "print(score)"
      ],
      "execution_count": null,
      "outputs": []
    },
    {
      "cell_type": "markdown",
      "metadata": {
        "id": "gmSt0cWUGlsY"
      },
      "source": [
        "Degree of 3"
      ]
    },
    {
      "cell_type": "code",
      "metadata": {
        "id": "DKHnArHz-LbR"
      },
      "source": [
        "regFeat3 = PolynomialFeatures(degree=var+2)\n",
        "X_feat3 = regFeat3.fit_transform(X_train)\n",
        "model3 = LinearRegression()\n",
        "model3.fit(X_feat3,y_train)\n",
        "X_test_feat3 = regFeat3.fit_transform(X_test)\n",
        "y_pred3 = model3.predict(X_test_feat3)\n",
        "score3 = r2_score(y_test,y_pred3)\n",
        "print(score3)"
      ],
      "execution_count": null,
      "outputs": []
    },
    {
      "cell_type": "code",
      "metadata": {
        "id": "6O6KYXvfHaMn"
      },
      "source": [
        "from sklearn.inspection import permutation_importance\n",
        "r = permutation_importance(model3, X_test_feat3, y_test,\n",
        "                          n_repeats=30,\n",
        "                          random_state=0)\n",
        "\n",
        "strong_features3 = []\n",
        "for i in r.importances_mean.argsort()[::-1]:\n",
        "  if r.importances_mean[i] - 2 * r.importances_std[i] > 0:\n",
        "    if r.importances_mean[i] > 0.55:\n",
        "      print(f\"{features[i]:<8}\"\n",
        "        f\"{r.importances_mean[i]:.3f}\"\n",
        "        f\" +/- {r.importances_std[i]:.3f}\")\n",
        "      strong_features3.append(features[i])\n",
        "\n",
        "print(strong_features3)\n",
        "print(len(strong_features3))"
      ],
      "execution_count": null,
      "outputs": []
    },
    {
      "cell_type": "code",
      "metadata": {
        "id": "OpIn82ftHrNG"
      },
      "source": [
        "linRegBestVar3 = dataset.loc[:,strong_features3]\n",
        "linRegBestVar3 = pd.DataFrame(linRegBestVar3, columns=strong_features3)\n",
        "print(type(linRegBestVar3))\n",
        "linRegBestVar3 = imp_mean.fit_transform(linRegBestVar3)\n",
        "#check = linRegBestVar.isnull().values.any()\n",
        "X_train, X_test, y_train, y_test = train_test_split(linRegBestVar3, y, test_size=0.2, random_state=0) \n",
        "\n",
        "regFeat = PolynomialFeatures(degree=var)\n",
        "X_feat = regFeat.fit_transform(X_train)\n",
        "modelNew = LinearRegression()\n",
        "modelNew.fit(X_feat,y_train)\n",
        "X_test_feat = regFeat.fit_transform(X_test)\n",
        "y_pred = lin_reg.predict(X_test_feat)\n",
        "score = r2_score(y_test,y_pred)\n",
        "print(score)"
      ],
      "execution_count": null,
      "outputs": []
    }
  ]
}