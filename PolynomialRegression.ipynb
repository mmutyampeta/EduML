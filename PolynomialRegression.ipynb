{
  "nbformat": 4,
  "nbformat_minor": 0,
  "metadata": {
    "colab": {
      "name": "PolynomialRegression",
      "provenance": [],
      "authorship_tag": "ABX9TyOKeYBZJlXEXzxVezYB5t2c",
      "include_colab_link": true
    },
    "kernelspec": {
      "name": "python3",
      "display_name": "Python 3"
    },
    "language_info": {
      "name": "python"
    }
  },
  "cells": [
    {
      "cell_type": "markdown",
      "metadata": {
        "id": "view-in-github",
        "colab_type": "text"
      },
      "source": [
        "<a href=\"https://colab.research.google.com/github/mmutyampeta/EduML/blob/main/PolynomialRegression.ipynb\" target=\"_parent\"><img src=\"https://colab.research.google.com/assets/colab-badge.svg\" alt=\"Open In Colab\"/></a>"
      ]
    },
    {
      "cell_type": "code",
      "metadata": {
        "id": "QgSFLsBnWgBZ"
      },
      "source": [
        "import numpy as np\n",
        "import pandas as pd\n",
        "import matplotlib.pyplot as plt\n",
        "dataset = pd.read_csv(\"2015_16_DistrictwiseNEW.csv\")\n",
        "X = dataset.loc[:, dataset.columns != 'OVERALL_LI']\n",
        "y = dataset.iloc[:,11]\n",
        "X = np.array(X)\n",
        "y = np.array(y)\n",
        "y = y.reshape(-1,1)"
      ],
      "execution_count": null,
      "outputs": []
    },
    {
      "cell_type": "code",
      "metadata": {
        "id": "5_w6ZEOJW1Di"
      },
      "source": [
        "columns = list(dataset.columns)\n",
        "features1 = columns[1:11]\n",
        "features2 = columns[12:]\n",
        "features = features1 + features2"
      ],
      "execution_count": null,
      "outputs": []
    },
    {
      "cell_type": "code",
      "metadata": {
        "id": "1LpTswxFW1WZ"
      },
      "source": [
        "from sklearn.impute import SimpleImputer\n",
        "imp_meanX = SimpleImputer(strategy='mean')\n",
        "X = imp_meanX.fit_transform(X)\n",
        "from sklearn.impute import SimpleImputer \n",
        "imp_meanY = SimpleImputer(strategy='mean')\n",
        "y = imp_meanY.fit_transform(y)\n",
        "from sklearn.model_selection import train_test_split\n",
        "X_train, X_test, y_train, y_test = train_test_split(X,y,test_size=0.2, random_state=0)"
      ],
      "execution_count": null,
      "outputs": []
    },
    {
      "cell_type": "code",
      "metadata": {
        "id": "21Q-O4UsW1Zm"
      },
      "source": [
        "from sklearn.preprocessing import PolynomialFeatures\n",
        "from sklearn.linear_model import LinearRegression\n",
        "from sklearn.metrics import r2_score\n",
        "#featureList = {1:00,2:00,3:00,4:00,5:00,6:00,7:00,8:00,9:00,10:00,11:00}\n",
        "#for i in range(1,8):\n",
        "#  regFeat = PolynomialFeatures(degree=i)\n",
        "#  X_feat = regFeat.fit_transform(X_train)\n",
        "#  lin_reg1 = LinearRegression()\n",
        "#  lin_reg.fit(X_feat,y_train)\n",
        "#  X_test_feat = regFeat.fit_transform(X_test)\n",
        "#  y_pred = lin_reg1.predict(X_test_feat)\n",
        "#  featureList[i+1] = r2_score(y_test,y_pred)\n",
        "#  print(i)"
      ],
      "execution_count": null,
      "outputs": []
    },
    {
      "cell_type": "code",
      "metadata": {
        "id": "bdhEx86ZW1c3"
      },
      "source": [
        "var = 1\n",
        "regFeat1 = PolynomialFeatures(degree=var)\n",
        "X_feat1 = regFeat1.fit_transform(X_train)\n",
        "lin_reg1 = LinearRegression()\n",
        "lin_reg1.fit(X_feat1,y_train)\n",
        "X_test_feat1 = regFeat1.fit_transform(X_test)\n",
        "y_pred1 = lin_reg1.predict(X_test_feat1)\n",
        "score1 = r2_score(y_test,y_pred1)\n",
        "print(score1)"
      ],
      "execution_count": null,
      "outputs": []
    },
    {
      "cell_type": "code",
      "metadata": {
        "id": "E5ZsiNYsW1gF"
      },
      "source": [
        "from sklearn.inspection import permutation_importance\n",
        "r = permutation_importance(lin_reg1, X_test_feat1, y_test,\n",
        "                          n_repeats=30,\n",
        "                          random_state=0)\n",
        "\n",
        "strong_features = []\n",
        "for i in r.importances_mean.argsort()[::-1]:\n",
        "  if r.importances_mean[i] - 2 * r.importances_std[i] > 0:\n",
        "    if r.importances_mean[i] > 0.55:\n",
        "      print(f\"{features[i]:<8}\"\n",
        "        f\"{r.importances_mean[i]:.3f}\"\n",
        "        f\" +/- {r.importances_std[i]:.3f}\")\n",
        "      strong_features.append(features[i])\n",
        "\n",
        "print(strong_features)\n",
        "print(len(strong_features))"
      ],
      "execution_count": null,
      "outputs": []
    },
    {
      "cell_type": "code",
      "metadata": {
        "id": "sIrmCk3gXfLp"
      },
      "source": [
        "linRegBestVar = dataset.loc[:,strong_features]\n",
        "linRegBestVar = pd.DataFrame(linRegBestVar, columns=strong_features)\n",
        "print(type(linRegBestVar))\n",
        "linRegBestVar = imp_meanX.fit_transform(linRegBestVar)\n",
        "#check = linRegBestVar.isnull().values.any()\n",
        "X_train, y_train, "
      ],
      "execution_count": null,
      "outputs": []
    }
  ]
}